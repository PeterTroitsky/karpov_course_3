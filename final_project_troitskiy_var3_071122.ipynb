{
 "cells": [
  {
   "cell_type": "markdown",
   "metadata": {},
   "source": [
    "# Структура\n",
    "* 1. [Подготовка данных (Предварительный анализ)](#podgotovka)\n",
    "* 2. [Проверка системы сплитования](#proverka)\n",
    "* 3. [Анализ результатов ААБ Теста](#analis)\n",
    "    * 3.1 Общие показатели (Был ли эксперимент успешен в целом)\n",
    "    * 3.2 [Анализ характеристик групп пользователей](#groups)\n",
    "        * 3.2.1 [Гендерный состав](#gender)\n",
    "        * 3.2.2 [Привлекательность](#attraction)\n",
    "        * 3.2.3 [Количество посещений](#visits)\n",
    "        * 3.2.4 [Страны](#country)\n",
    "        * 3.2.5 [Возраст](#ages)\n",
    "* 4. [Выводы](#vivod) "
   ]
  },
  {
   "cell_type": "markdown",
   "metadata": {},
   "source": [
    "# Подготовка данных (Предварительный анализ)<a name=\"podgotovka\"></a>"
   ]
  },
  {
   "cell_type": "code",
   "execution_count": 1,
   "metadata": {},
   "outputs": [],
   "source": [
    "import pandas as pd\n",
    "import numpy as np\n",
    "# from datetime import timedelta\n",
    "#from datetime import datetime\n",
    "# from io import StringIO"
   ]
  },
  {
   "cell_type": "code",
   "execution_count": 2,
   "metadata": {},
   "outputs": [],
   "source": [
    "import seaborn as sns\n",
    "from scipy import stats\n",
    "from scipy.stats import levene\n",
    "# from scipy.stats import wilcoxon\n",
    "import matplotlib.pyplot as plt\n"
   ]
  },
  {
   "cell_type": "code",
   "execution_count": 191,
   "metadata": {},
   "outputs": [],
   "source": [
    "import statsmodels.formula.api as smf\n",
    "from statsmodels.stats.api import anova_lm\n",
    "from statsmodels.formula.api import ols\n",
    "from statsmodels.stats.multicomp import (pairwise_tukeyhsd,\n",
    "                                         MultiComparison)\n",
    "import scikit_posthocs as sp"
   ]
  },
  {
   "cell_type": "code",
   "execution_count": 9,
   "metadata": {},
   "outputs": [],
   "source": [
    "# from sklearn.linear_model import LinearRegression"
   ]
  },
  {
   "cell_type": "code",
   "execution_count": 4,
   "metadata": {},
   "outputs": [],
   "source": [
    "from tqdm.auto import tqdm\n",
    "from scipy.stats import norm\n",
    "plt.style.use('ggplot')"
   ]
  },
  {
   "cell_type": "code",
   "execution_count": 5,
   "metadata": {},
   "outputs": [],
   "source": [
    "def get_bootstrap(\n",
    "    data_column_1,  # числовые значения первой выборки\n",
    "    data_column_2,  # числовые значения второй выборки\n",
    "    boot_it=1000,  # количество бутстрэп-подвыборок\n",
    "    statistic=np.mean,  # интересующая нас статистика\n",
    "    bootstrap_conf_level=0.95  # уровень значимости\n",
    "): \n",
    "    boot_data = []\n",
    "    for i in tqdm(range(boot_it)):  # извлекаем подвыборки\n",
    "        samples_1 = data_column_1.sample(\n",
    "            len(data_column_1), \n",
    "            replace=True  # параметр возвращения\n",
    "        ).values\n",
    "        \n",
    "        samples_2 = data_column_2.sample(\n",
    "            len(data_column_1), \n",
    "            replace=True\n",
    "        ).values\n",
    "        \n",
    "        boot_data.append(statistic(samples_1) - statistic(samples_2))  # mean() - применяем статистику\n",
    "        \n",
    "    pd_boot_data = pd.DataFrame(boot_data)\n",
    "        \n",
    "    left_quant = (1 - bootstrap_conf_level) / 2\n",
    "    right_quant = 1 - (1 - bootstrap_conf_level) / 2\n",
    "    quants = pd_boot_data.quantile([left_quant, right_quant])\n",
    "        \n",
    "    p_1 = norm.cdf(\n",
    "        x=0, \n",
    "        loc=np.mean(boot_data), \n",
    "        scale=np.std(boot_data)\n",
    "    )\n",
    "    p_2 = norm.cdf(\n",
    "        x=0, \n",
    "        loc =-np.mean(boot_data), \n",
    "        scale=np.std(boot_data)\n",
    "    )\n",
    "    p_value = min(p_1, p_2) * 2\n",
    "        \n",
    "    # Визуализация\n",
    "    _, _, bars = plt.hist(pd_boot_data[0], bins=50)\n",
    "    for bar in bars: \n",
    "        if bar.get_x() <= quants.iloc[0][0] or bar.get_x() >= quants.iloc[1][0]: \n",
    "            bar.set_facecolor('red')\n",
    "        else: \n",
    "            bar.set_facecolor('grey')\n",
    "            bar.set_edgecolor('black')\n",
    "    \n",
    "    plt.style.use('ggplot')\n",
    "    plt.vlines(quants, ymin=0, ymax=50, linestyle='--')\n",
    "    plt.xlabel('boot_data')\n",
    "    plt.ylabel('frequency')\n",
    "    plt.title(\"Histogram of boot_data\")\n",
    "    plt.show()\n",
    "       \n",
    "    return {  # \"boot_data\": boot_data, \n",
    "            \"quants\": quants, \n",
    "            \"p_value\": p_value}"
   ]
  },
  {
   "cell_type": "code",
   "execution_count": 1,
   "metadata": {},
   "outputs": [],
   "source": [
    "import requests\n",
    "from urllib.parse import urlencode"
   ]
  },
  {
   "cell_type": "code",
   "execution_count": 2,
   "metadata": {},
   "outputs": [],
   "source": [
    "def get_df_by_yandex_link(link, name): \n",
    "    base_url = 'https: //cloud-api.yandex.net/v1/disk/public/resources/download?'\n",
    "    public_key = link  # This inscribe your link\n",
    "    # Get the download link\n",
    "    final_url = base_url + urlencode(dict(public_key=public_key))\n",
    "    response = requests.get (final_url)\n",
    "    download_url = response.json()['href']\n",
    "    # Load the file and save it\n",
    "    download_response = requests.get(download_url)\n",
    "    with open(name, 'wb') as f:  # Here specify the correct path to the file\n",
    "        f.write(download_response.content)"
   ]
  },
  {
   "cell_type": "code",
   "execution_count": 3,
   "metadata": {},
   "outputs": [],
   "source": [
    "yandex_links = ['https: //disk.yandex.ru/d/4XXIME4osGrMRA', 'https: //disk.yandex.ru/d/gvCWpZ55ODzs2g'\n",
    "                'https: //disk.yandex.ru/d/yJFydMNNGkEKfg', 'https: //disk.yandex.ru/d/VY5W0keMX5TZBQ'\n",
    "                'https: //disk.yandex.ru/d/br6KkQupzzTGoQ', 'https: //disk.yandex.ru/d/th5GL0mGOc-qzg']"
   ]
  },
  {
   "cell_type": "code",
   "execution_count": 4,
   "metadata": {},
   "outputs": [],
   "source": [
    "names = ['users_test', 'transactions_test', 'users_control_1.csv', 'transactions_control_1.csv',\n",
    "         'users_control_2.csv', 'transactions_control_2.csv']"
   ]
  },
  {
   "cell_type": "code",
   "execution_count": null,
   "metadata": {},
   "outputs": [],
   "source": [
    "h = 0\n",
    "for i in yandex_links: \n",
    "    name = names[i]\n",
    "    get_df_by_yandex_link(i, name)\n",
    "    h += 1"
   ]
  },
  {
   "cell_type": "code",
   "execution_count": 6,
   "metadata": {},
   "outputs": [],
   "source": [
    "users_test = pd.read_csv('users_test.csv', sep=';')\n",
    "transactions_test = pd.read_csv('transactions_test.csv', sep=';')\n",
    "\n",
    "users_control_1 = pd.read_csv('users_control_1.csv', sep=';')\n",
    "transactions_control_1 = pd.read_csv('transactions_control_1.csv', sep=';')\n",
    "\n",
    "users_control_2 = pd.read_csv('users_control_2.csv', sep=';')\n",
    "transactions_control_2 = pd.read_csv('transactions_control_2.csv', sep=';')"
   ]
  },
  {
   "cell_type": "code",
   "execution_count": 69,
   "metadata": {},
   "outputs": [
    {
     "data": {
      "text/plain": [
       "uid             630\n",
       "country         630\n",
       "joined_at         0\n",
       "paid_at           0\n",
       "revenue         630\n",
       "payment_id      630\n",
       "from_page       630\n",
       "product_type    630\n",
       "dtype: int64"
      ]
     },
     "execution_count": 69,
     "metadata": {},
     "output_type": "execute_result"
    }
   ],
   "source": [
    "transactions_control_1.isna().sum()"
   ]
  },
  {
   "cell_type": "code",
   "execution_count": 7,
   "metadata": {},
   "outputs": [],
   "source": [
    "transactions_control_1 = transactions_control_1.dropna()"
   ]
  },
  {
   "cell_type": "code",
   "execution_count": 63,
   "metadata": {},
   "outputs": [],
   "source": [
    "nunique_comparison = pd.concat([users_test.nunique().to_frame(),\n",
    "                                users_control_1.nunique().to_frame(),\n",
    "                                users_control_2.nunique().to_frame()],\n",
    "                                axis=1)"
   ]
  },
  {
   "cell_type": "code",
   "execution_count": 64,
   "metadata": {},
   "outputs": [],
   "source": [
    "nunique_comparison.columns = ['test', 'control_1', 'control_2']"
   ]
  },
  {
   "cell_type": "code",
   "execution_count": 75,
   "metadata": {},
   "outputs": [
    {
     "data": {
      "text/html": [
       "<div>\n",
       "<style scoped>\n",
       "    .dataframe tbody tr th:only-of-type {\n",
       "        vertical-align: middle;\n",
       "    }\n",
       "\n",
       "    .dataframe tbody tr th {\n",
       "        vertical-align: top;\n",
       "    }\n",
       "\n",
       "    .dataframe thead th {\n",
       "        text-align: right;\n",
       "    }\n",
       "</style>\n",
       "<table border=\"1\" class=\"dataframe\">\n",
       "  <thead>\n",
       "    <tr style=\"text-align: right;\">\n",
       "      <th></th>\n",
       "      <th>test</th>\n",
       "      <th>control_1</th>\n",
       "      <th>control_2</th>\n",
       "    </tr>\n",
       "  </thead>\n",
       "  <tbody>\n",
       "    <tr>\n",
       "      <th>uid</th>\n",
       "      <td>4308</td>\n",
       "      <td>4340</td>\n",
       "      <td>4264</td>\n",
       "    </tr>\n",
       "    <tr>\n",
       "      <th>country</th>\n",
       "      <td>51</td>\n",
       "      <td>40</td>\n",
       "      <td>45</td>\n",
       "    </tr>\n",
       "    <tr>\n",
       "      <th>age</th>\n",
       "      <td>57</td>\n",
       "      <td>56</td>\n",
       "      <td>59</td>\n",
       "    </tr>\n",
       "    <tr>\n",
       "      <th>views_count</th>\n",
       "      <td>331</td>\n",
       "      <td>339</td>\n",
       "      <td>328</td>\n",
       "    </tr>\n",
       "    <tr>\n",
       "      <th>attraction_coeff</th>\n",
       "      <td>600</td>\n",
       "      <td>587</td>\n",
       "      <td>585</td>\n",
       "    </tr>\n",
       "  </tbody>\n",
       "</table>\n",
       "</div>"
      ],
      "text/plain": [
       "                  test  control_1  control_2\n",
       "uid               4308       4340       4264\n",
       "country             51         40         45\n",
       "age                 57         56         59\n",
       "views_count        331        339        328\n",
       "attraction_coeff   600        587        585"
      ]
     },
     "execution_count": 75,
     "metadata": {},
     "output_type": "execute_result"
    }
   ],
   "source": [
    "nunique_comparison.loc[['uid', 'country', 'age', 'views_count', 'attraction_coeff']]"
   ]
  },
  {
   "cell_type": "markdown",
   "metadata": {},
   "source": [
    "**Для начала необходимо убедиться в корректной настройке системы сплитования. Выше в таблице представлено сравнение уникальных значений для id, стран, возраста, параметров привлекательности пользователей. В связи с тем, что во второй контрольной группе представлено на 5 стран больше, чем в первой можно сделать предположение о целосообразности попарного сравнения результатов вместо однофакторного дисперсионного анализа. Однако необходимо уточнить состав стран и количество пользователей, соответствующее каждой стране**"
   ]
  },
  {
   "cell_type": "markdown",
   "metadata": {},
   "source": [
    "# 2. Проверка системы сплитования<a name=\"proverka\"></a>"
   ]
  },
  {
   "cell_type": "code",
   "execution_count": 91,
   "metadata": {},
   "outputs": [],
   "source": [
    "country_comparison = pd.concat([users_control_2.groupby('country').agg({'uid': 'count'})\n",
    "                    .sort_values('uid', ascending=False), users_control_1.groupby('country').agg({'uid': 'count'})\n",
    "                    .sort_values('uid', ascending=False)], \\\n",
    "                    axis=1)"
   ]
  },
  {
   "cell_type": "code",
   "execution_count": 93,
   "metadata": {},
   "outputs": [],
   "source": [
    "country_comparison.columns = ['control_2', 'control_1']"
   ]
  },
  {
   "cell_type": "code",
   "execution_count": 100,
   "metadata": {},
   "outputs": [
    {
     "data": {
      "text/plain": [
       "control_2    24.0\n",
       "control_1    19.0\n",
       "dtype: float64"
      ]
     },
     "execution_count": 100,
     "metadata": {},
     "output_type": "execute_result"
    }
   ],
   "source": [
    "country_comparison.query(\"control_2=='NaN' | control_1=='NaN'\").sum()"
   ]
  },
  {
   "cell_type": "markdown",
   "metadata": {},
   "source": [
    "**В первой контрольной группе присутствует 19 пользователей из стран, которые не представлены во второй группе. И 24 пользователя соответственно во второй.**"
   ]
  },
  {
   "cell_type": "code",
   "execution_count": 102,
   "metadata": {},
   "outputs": [
    {
     "data": {
      "text/html": [
       "<div>\n",
       "<style scoped>\n",
       "    .dataframe tbody tr th:only-of-type {\n",
       "        vertical-align: middle;\n",
       "    }\n",
       "\n",
       "    .dataframe tbody tr th {\n",
       "        vertical-align: top;\n",
       "    }\n",
       "\n",
       "    .dataframe thead th {\n",
       "        text-align: right;\n",
       "    }\n",
       "</style>\n",
       "<table border=\"1\" class=\"dataframe\">\n",
       "  <thead>\n",
       "    <tr style=\"text-align: right;\">\n",
       "      <th></th>\n",
       "      <th>control_2</th>\n",
       "      <th>control_1</th>\n",
       "    </tr>\n",
       "  </thead>\n",
       "  <tbody>\n",
       "    <tr>\n",
       "      <th>United States of America</th>\n",
       "      <td>1486.0</td>\n",
       "      <td>1471.0</td>\n",
       "    </tr>\n",
       "    <tr>\n",
       "      <th>Argentina</th>\n",
       "      <td>397.0</td>\n",
       "      <td>389.0</td>\n",
       "    </tr>\n",
       "    <tr>\n",
       "      <th>France</th>\n",
       "      <td>376.0</td>\n",
       "      <td>370.0</td>\n",
       "    </tr>\n",
       "    <tr>\n",
       "      <th>Spain</th>\n",
       "      <td>310.0</td>\n",
       "      <td>342.0</td>\n",
       "    </tr>\n",
       "    <tr>\n",
       "      <th>Italy</th>\n",
       "      <td>293.0</td>\n",
       "      <td>338.0</td>\n",
       "    </tr>\n",
       "    <tr>\n",
       "      <th>Chile</th>\n",
       "      <td>286.0</td>\n",
       "      <td>287.0</td>\n",
       "    </tr>\n",
       "    <tr>\n",
       "      <th>United Arab Emirates</th>\n",
       "      <td>211.0</td>\n",
       "      <td>207.0</td>\n",
       "    </tr>\n",
       "    <tr>\n",
       "      <th>Germany</th>\n",
       "      <td>202.0</td>\n",
       "      <td>188.0</td>\n",
       "    </tr>\n",
       "    <tr>\n",
       "      <th>United Kingdom (Great Britain)</th>\n",
       "      <td>146.0</td>\n",
       "      <td>146.0</td>\n",
       "    </tr>\n",
       "    <tr>\n",
       "      <th>Canada</th>\n",
       "      <td>134.0</td>\n",
       "      <td>134.0</td>\n",
       "    </tr>\n",
       "    <tr>\n",
       "      <th>Portugal</th>\n",
       "      <td>100.0</td>\n",
       "      <td>100.0</td>\n",
       "    </tr>\n",
       "    <tr>\n",
       "      <th>Belgium</th>\n",
       "      <td>90.0</td>\n",
       "      <td>108.0</td>\n",
       "    </tr>\n",
       "    <tr>\n",
       "      <th>Israel</th>\n",
       "      <td>78.0</td>\n",
       "      <td>109.0</td>\n",
       "    </tr>\n",
       "    <tr>\n",
       "      <th>Australia</th>\n",
       "      <td>51.0</td>\n",
       "      <td>50.0</td>\n",
       "    </tr>\n",
       "    <tr>\n",
       "      <th>Switzerland</th>\n",
       "      <td>35.0</td>\n",
       "      <td>42.0</td>\n",
       "    </tr>\n",
       "  </tbody>\n",
       "</table>\n",
       "</div>"
      ],
      "text/plain": [
       "                                control_2  control_1\n",
       "United States of America           1486.0     1471.0\n",
       "Argentina                           397.0      389.0\n",
       "France                              376.0      370.0\n",
       "Spain                               310.0      342.0\n",
       "Italy                               293.0      338.0\n",
       "Chile                               286.0      287.0\n",
       "United Arab Emirates                211.0      207.0\n",
       "Germany                             202.0      188.0\n",
       "United Kingdom (Great Britain)      146.0      146.0\n",
       "Canada                              134.0      134.0\n",
       "Portugal                            100.0      100.0\n",
       "Belgium                              90.0      108.0\n",
       "Israel                               78.0      109.0\n",
       "Australia                            51.0       50.0\n",
       "Switzerland                          35.0       42.0"
      ]
     },
     "execution_count": 102,
     "metadata": {},
     "output_type": "execute_result"
    }
   ],
   "source": [
    "country_comparison.head(15)"
   ]
  },
  {
   "cell_type": "markdown",
   "metadata": {},
   "source": [
    "**Удельная доля пользователей из уникальных для каждой контрольной группы стран позволяет проводить дальнейший анализ данных.** "
   ]
  },
  {
   "cell_type": "markdown",
   "metadata": {},
   "source": [
    "**Дополнительно сравним различия в страницах откуда пользователь перешел на страницу оплаты.**"
   ]
  },
  {
   "cell_type": "code",
   "execution_count": 49,
   "metadata": {},
   "outputs": [],
   "source": [
    "from_page_comparison = pd.concat([transactions_test.groupby('from_page').agg({'payment_id': 'count'}),\n",
    "                                  transactions_control_1.groupby('from_page').agg({'payment_id': 'count'}),\n",
    "                                  transactions_control_2.groupby('from_page').agg({'payment_id': 'count'})],\n",
    "                                  axis=1)"
   ]
  },
  {
   "cell_type": "code",
   "execution_count": 50,
   "metadata": {},
   "outputs": [],
   "source": [
    "from_page_comparison.columns = ['test', 'control_1', 'control_2']"
   ]
  },
  {
   "cell_type": "code",
   "execution_count": 8,
   "metadata": {
    "scrolled": true
   },
   "outputs": [
    {
     "data": {
      "text/html": [
       "<div>\n",
       "<style scoped>\n",
       "    .dataframe tbody tr th:only-of-type {\n",
       "        vertical-align: middle;\n",
       "    }\n",
       "\n",
       "    .dataframe tbody tr th {\n",
       "        vertical-align: top;\n",
       "    }\n",
       "\n",
       "    .dataframe thead th {\n",
       "        text-align: right;\n",
       "    }\n",
       "</style>\n",
       "<table border=\"1\" class=\"dataframe\">\n",
       "  <thead>\n",
       "    <tr style=\"text-align: right;\">\n",
       "      <th></th>\n",
       "      <th>test</th>\n",
       "      <th>control_1</th>\n",
       "      <th>control_2</th>\n",
       "    </tr>\n",
       "  </thead>\n",
       "  <tbody>\n",
       "    <tr>\n",
       "      <th>coins_popup</th>\n",
       "      <td>1.0</td>\n",
       "      <td>2.0</td>\n",
       "      <td>NaN</td>\n",
       "    </tr>\n",
       "    <tr>\n",
       "      <th>delivery_vip</th>\n",
       "      <td>1.0</td>\n",
       "      <td>NaN</td>\n",
       "      <td>NaN</td>\n",
       "    </tr>\n",
       "    <tr>\n",
       "      <th>empty_mutual</th>\n",
       "      <td>1.0</td>\n",
       "      <td>NaN</td>\n",
       "      <td>1.0</td>\n",
       "    </tr>\n",
       "    <tr>\n",
       "      <th>likes</th>\n",
       "      <td>1.0</td>\n",
       "      <td>NaN</td>\n",
       "      <td>NaN</td>\n",
       "    </tr>\n",
       "    <tr>\n",
       "      <th>super_popup</th>\n",
       "      <td>2.0</td>\n",
       "      <td>2.0</td>\n",
       "      <td>NaN</td>\n",
       "    </tr>\n",
       "    <tr>\n",
       "      <th>admins</th>\n",
       "      <td>NaN</td>\n",
       "      <td>2.0</td>\n",
       "      <td>NaN</td>\n",
       "    </tr>\n",
       "    <tr>\n",
       "      <th>empty_admins</th>\n",
       "      <td>NaN</td>\n",
       "      <td>5.0</td>\n",
       "      <td>NaN</td>\n",
       "    </tr>\n",
       "    <tr>\n",
       "      <th>no_sympathy</th>\n",
       "      <td>NaN</td>\n",
       "      <td>2.0</td>\n",
       "      <td>NaN</td>\n",
       "    </tr>\n",
       "    <tr>\n",
       "      <th>refund_VP</th>\n",
       "      <td>NaN</td>\n",
       "      <td>1.0</td>\n",
       "      <td>NaN</td>\n",
       "    </tr>\n",
       "    <tr>\n",
       "      <th>refund_WP</th>\n",
       "      <td>NaN</td>\n",
       "      <td>1.0</td>\n",
       "      <td>NaN</td>\n",
       "    </tr>\n",
       "    <tr>\n",
       "      <th>refung_AP</th>\n",
       "      <td>NaN</td>\n",
       "      <td>1.0</td>\n",
       "      <td>NaN</td>\n",
       "    </tr>\n",
       "  </tbody>\n",
       "</table>\n",
       "</div>"
      ],
      "text/plain": [
       "              test  control_1  control_2\n",
       "coins_popup    1.0        2.0        NaN\n",
       "delivery_vip   1.0        NaN        NaN\n",
       "empty_mutual   1.0        NaN        1.0\n",
       "likes          1.0        NaN        NaN\n",
       "super_popup    2.0        2.0        NaN\n",
       "admins         NaN        2.0        NaN\n",
       "empty_admins   NaN        5.0        NaN\n",
       "no_sympathy    NaN        2.0        NaN\n",
       "refund_VP      NaN        1.0        NaN\n",
       "refund_WP      NaN        1.0        NaN\n",
       "refung_AP      NaN        1.0        NaN"
      ]
     },
     "execution_count": 8,
     "metadata": {},
     "output_type": "execute_result"
    }
   ],
   "source": [
    "from_page_comparison.query(\"control_2=='NaN' | control_1=='NaN' | test=='NaN'\")"
   ]
  },
  {
   "cell_type": "code",
   "execution_count": 54,
   "metadata": {},
   "outputs": [],
   "source": [
    "from_page_comparison['average'] = from_page_comparison.test + from_page_comparison.control_1 \\\n",
    "                                                            + from_page_comparison.control_2"
   ]
  },
  {
   "cell_type": "code",
   "execution_count": 58,
   "metadata": {},
   "outputs": [
    {
     "data": {
      "text/html": [
       "<div>\n",
       "<style scoped>\n",
       "    .dataframe tbody tr th:only-of-type {\n",
       "        vertical-align: middle;\n",
       "    }\n",
       "\n",
       "    .dataframe tbody tr th {\n",
       "        vertical-align: top;\n",
       "    }\n",
       "\n",
       "    .dataframe thead th {\n",
       "        text-align: right;\n",
       "    }\n",
       "</style>\n",
       "<table border=\"1\" class=\"dataframe\">\n",
       "  <thead>\n",
       "    <tr style=\"text-align: right;\">\n",
       "      <th></th>\n",
       "      <th>test</th>\n",
       "      <th>control_1</th>\n",
       "      <th>control_2</th>\n",
       "      <th>average</th>\n",
       "    </tr>\n",
       "  </thead>\n",
       "  <tbody>\n",
       "    <tr>\n",
       "      <th>empty_likes</th>\n",
       "      <td>72.0</td>\n",
       "      <td>99.0</td>\n",
       "      <td>101.0</td>\n",
       "      <td>272.0</td>\n",
       "    </tr>\n",
       "    <tr>\n",
       "      <th>trial_vip_popup</th>\n",
       "      <td>48.0</td>\n",
       "      <td>56.0</td>\n",
       "      <td>45.0</td>\n",
       "      <td>149.0</td>\n",
       "    </tr>\n",
       "    <tr>\n",
       "      <th>none</th>\n",
       "      <td>34.0</td>\n",
       "      <td>34.0</td>\n",
       "      <td>32.0</td>\n",
       "      <td>100.0</td>\n",
       "    </tr>\n",
       "    <tr>\n",
       "      <th>autoreply_message</th>\n",
       "      <td>27.0</td>\n",
       "      <td>29.0</td>\n",
       "      <td>24.0</td>\n",
       "      <td>80.0</td>\n",
       "    </tr>\n",
       "    <tr>\n",
       "      <th>menu</th>\n",
       "      <td>27.0</td>\n",
       "      <td>31.0</td>\n",
       "      <td>14.0</td>\n",
       "      <td>72.0</td>\n",
       "    </tr>\n",
       "    <tr>\n",
       "      <th>promo_09</th>\n",
       "      <td>18.0</td>\n",
       "      <td>21.0</td>\n",
       "      <td>22.0</td>\n",
       "      <td>61.0</td>\n",
       "    </tr>\n",
       "    <tr>\n",
       "      <th>autorefill</th>\n",
       "      <td>5.0</td>\n",
       "      <td>23.0</td>\n",
       "      <td>20.0</td>\n",
       "      <td>48.0</td>\n",
       "    </tr>\n",
       "  </tbody>\n",
       "</table>\n",
       "</div>"
      ],
      "text/plain": [
       "                   test  control_1  control_2  average\n",
       "empty_likes        72.0       99.0      101.0    272.0\n",
       "trial_vip_popup    48.0       56.0       45.0    149.0\n",
       "none               34.0       34.0       32.0    100.0\n",
       "autoreply_message  27.0       29.0       24.0     80.0\n",
       "menu               27.0       31.0       14.0     72.0\n",
       "promo_09           18.0       21.0       22.0     61.0\n",
       "autorefill          5.0       23.0       20.0     48.0"
      ]
     },
     "execution_count": 58,
     "metadata": {},
     "output_type": "execute_result"
    }
   ],
   "source": [
    "from_page_comparison.sort_values('average', ascending=False).head(7)"
   ]
  },
  {
   "cell_type": "markdown",
   "metadata": {},
   "source": [
    "**Количество пользователей, перешедших с уникальных для каждой группы страниц, существенно не влияет  на однородность составов групп.**"
   ]
  },
  {
   "cell_type": "code",
   "execution_count": 47,
   "metadata": {},
   "outputs": [],
   "source": [
    "age_comparison = pd.concat([users_test.groupby('gender').agg({'uid': 'count'}),\n",
    "                            users_control_1.groupby('gender').agg({'uid': 'count'}),\n",
    "                            users_control_2.groupby('gender').agg({'uid': 'count'})],\n",
    "                            axis=1)"
   ]
  },
  {
   "cell_type": "code",
   "execution_count": 48,
   "metadata": {},
   "outputs": [],
   "source": [
    "age_comparison.columns = ['test', 'control_1', 'control_2']"
   ]
  },
  {
   "cell_type": "code",
   "execution_count": 49,
   "metadata": {},
   "outputs": [],
   "source": [
    "age_comparison = age_comparison.T"
   ]
  },
  {
   "cell_type": "code",
   "execution_count": 62,
   "metadata": {},
   "outputs": [],
   "source": [
    "age_df = pd.DataFrame({'test': (age_comparison.loc['test'][0] / age_comparison.loc['test'].sum()).round(3),\n",
    "          'control_1': (age_comparison.loc['control_1'][0] / age_comparison.loc['control_1'].sum()).round(3),\n",
    "          'control_2': (age_comparison.loc['control_2'][0] / age_comparison.loc['control_2'].sum()).round(3)},\n",
    "          index=['age_relation'])"
   ]
  },
  {
   "cell_type": "code",
   "execution_count": 63,
   "metadata": {},
   "outputs": [
    {
     "data": {
      "text/html": [
       "<div>\n",
       "<style scoped>\n",
       "    .dataframe tbody tr th:only-of-type {\n",
       "        vertical-align: middle;\n",
       "    }\n",
       "\n",
       "    .dataframe tbody tr th {\n",
       "        vertical-align: top;\n",
       "    }\n",
       "\n",
       "    .dataframe thead th {\n",
       "        text-align: right;\n",
       "    }\n",
       "</style>\n",
       "<table border=\"1\" class=\"dataframe\">\n",
       "  <thead>\n",
       "    <tr style=\"text-align: right;\">\n",
       "      <th></th>\n",
       "      <th>test</th>\n",
       "      <th>control_1</th>\n",
       "      <th>control_2</th>\n",
       "    </tr>\n",
       "  </thead>\n",
       "  <tbody>\n",
       "    <tr>\n",
       "      <th>age_relation</th>\n",
       "      <td>0.047</td>\n",
       "      <td>0.042</td>\n",
       "      <td>0.046</td>\n",
       "    </tr>\n",
       "  </tbody>\n",
       "</table>\n",
       "</div>"
      ],
      "text/plain": [
       "               test  control_1  control_2\n",
       "age_relation  0.047      0.042      0.046"
      ]
     },
     "execution_count": 63,
     "metadata": {},
     "output_type": "execute_result"
    }
   ],
   "source": [
    "age_df"
   ]
  },
  {
   "cell_type": "markdown",
   "metadata": {},
   "source": [
    "**Отношение количества пользователей определенного пола к другому примерно одинаковое во всех трех группах.**"
   ]
  },
  {
   "cell_type": "code",
   "execution_count": 141,
   "metadata": {},
   "outputs": [
    {
     "data": {
      "text/html": [
       "<div>\n",
       "<style scoped>\n",
       "    .dataframe tbody tr th:only-of-type {\n",
       "        vertical-align: middle;\n",
       "    }\n",
       "\n",
       "    .dataframe tbody tr th {\n",
       "        vertical-align: top;\n",
       "    }\n",
       "\n",
       "    .dataframe thead th {\n",
       "        text-align: right;\n",
       "    }\n",
       "</style>\n",
       "<table border=\"1\" class=\"dataframe\">\n",
       "  <thead>\n",
       "    <tr style=\"text-align: right;\">\n",
       "      <th></th>\n",
       "      <th>test</th>\n",
       "      <th>control_1</th>\n",
       "      <th>control_2</th>\n",
       "    </tr>\n",
       "  </thead>\n",
       "  <tbody>\n",
       "    <tr>\n",
       "      <th>age_filter_start_mean</th>\n",
       "      <td>26.701</td>\n",
       "      <td>26.794</td>\n",
       "      <td>26.954</td>\n",
       "    </tr>\n",
       "    <tr>\n",
       "      <th>age_filter_end_mean</th>\n",
       "      <td>38.249</td>\n",
       "      <td>38.553</td>\n",
       "      <td>38.907</td>\n",
       "    </tr>\n",
       "  </tbody>\n",
       "</table>\n",
       "</div>"
      ],
      "text/plain": [
       "                         test  control_1  control_2\n",
       "age_filter_start_mean  26.701     26.794     26.954\n",
       "age_filter_end_mean    38.249     38.553     38.907"
      ]
     },
     "execution_count": 141,
     "metadata": {},
     "output_type": "execute_result"
    }
   ],
   "source": [
    "pd.DataFrame({'test': (users_test.age_filter_start.mean().round(3), users_test.age_filter_end.mean().round(3)),\n",
    "     'control_1': (users_control_1.age_filter_start.mean().round(3), users_control_1.age_filter_end.mean().round(3)),\n",
    "    'control_2': (users_control_2.age_filter_start.mean().round(3), users_control_2.age_filter_end.mean().round(3))},\n",
    "            index=['age_filter_start_mean', 'age_filter_end_mean'])"
   ]
  },
  {
   "cell_type": "markdown",
   "metadata": {},
   "source": [
    "**Средний возраст в фильтрах поиска также совпадает во всех случаях**"
   ]
  },
  {
   "cell_type": "code",
   "execution_count": 82,
   "metadata": {},
   "outputs": [
    {
     "data": {
      "text/plain": [
       "KstestResult(statistic=0.1674063650140723, pvalue=0.038402920239277494)"
      ]
     },
     "execution_count": 82,
     "metadata": {},
     "output_type": "execute_result"
    }
   ],
   "source": [
    "stats.kstest(list(transactions_control_1[transactions_control_1.product_type=='coins'].revenue), \\\n",
    "                  list(transactions_control_2[transactions_control_2.product_type=='coins'].revenue))"
   ]
  },
  {
   "cell_type": "markdown",
   "metadata": {},
   "source": [
    "**Дополнительная проверка системы сплитования в части распределений выручки за внутреннюю валюту для последующего пофакторного анализа (пункт 3.1).\n",
    "Cтатистика теста равна 0.167, а соответствующее значение p равно .038.Поскольку p-значение меньше 0,05, мы отвергаем нулевую гипотезу. У нас есть достаточно доказательств, чтобы сказать, что два выборочных набора из контрольных групп не происходят из одного и того же распределения.**"
   ]
  },
  {
   "cell_type": "code",
   "execution_count": 8,
   "metadata": {},
   "outputs": [],
   "source": [
    "aa1 = np.array([[users_control_2.is_premium.sum(), users_control_2.shape[0] - users_control_2.is_premium.sum()],\n",
    "                [users_control_1.is_premium.sum(), users_control_1.shape[0] - users_control_1.is_premium.sum()]])"
   ]
  },
  {
   "cell_type": "code",
   "execution_count": 9,
   "metadata": {
    "scrolled": true
   },
   "outputs": [
    {
     "name": "stdout",
     "output_type": "stream",
     "text": [
      "0.9008571305798496\n"
     ]
    }
   ],
   "source": [
    "print(stats.chi2_contingency(aa1, correction=False)[1])"
   ]
  },
  {
   "cell_type": "markdown",
   "metadata": {},
   "source": [
    "**Тестирование данных АА теста показывает отсутствие значимых различий в контрольных группах**"
   ]
  },
  {
   "cell_type": "code",
   "execution_count": 12,
   "metadata": {},
   "outputs": [],
   "source": [
    "control_full = pd.concat([users_control_1, users_control_2],\n",
    "                          axis=0)"
   ]
  },
  {
   "cell_type": "code",
   "execution_count": 13,
   "metadata": {},
   "outputs": [],
   "source": [
    "control_transactions_full = pd.concat([transactions_control_1, transactions_control_2], axis=0)"
   ]
  },
  {
   "cell_type": "code",
   "execution_count": 96,
   "metadata": {},
   "outputs": [
    {
     "data": {
      "text/plain": [
       "(705, 273)"
      ]
     },
     "execution_count": 96,
     "metadata": {},
     "output_type": "execute_result"
    }
   ],
   "source": [
    "control_transactions_full.shape[0], transactions_test.shape[0]"
   ]
  },
  {
   "cell_type": "code",
   "execution_count": 16,
   "metadata": {},
   "outputs": [],
   "source": [
    "control_full['group'] = 'control'"
   ]
  },
  {
   "cell_type": "code",
   "execution_count": 17,
   "metadata": {},
   "outputs": [],
   "source": [
    "users_test['group'] = 'test'"
   ]
  },
  {
   "cell_type": "code",
   "execution_count": 18,
   "metadata": {},
   "outputs": [],
   "source": [
    "full_data = pd.concat([control_full, users_test],\n",
    "                       axis=0)"
   ]
  },
  {
   "cell_type": "markdown",
   "metadata": {},
   "source": [
    "# Анализ результатов ААБ Теста<a name=\"analis\"></a>\n",
    "## 3.1 Общие показатели (Был ли эксперимент успешен в целом)"
   ]
  },
  {
   "cell_type": "code",
   "execution_count": 134,
   "metadata": {},
   "outputs": [],
   "source": [
    "general_indicators = pd.DataFrame({'Control': [control_full.was_premium.sum() / control_full.uid.nunique(),\n",
    "                                    control_full.is_premium.sum() / control_full.uid.nunique(),\n",
    "                                    control_full.total_revenue.sum() / control_full.uid.nunique()],\n",
    "                                    'Test': [users_test.was_premium.sum() / users_test.uid.nunique(),\n",
    "                                    users_test.is_premium.sum() / users_test.uid.nunique(),\n",
    "                                    users_test.total_revenue.sum() / users_test.uid.nunique()]},\n",
    "                                    index=['ex_premiums_on_uid', 'premiums_on_uid', 'revenue_on_uid'])"
   ]
  },
  {
   "cell_type": "code",
   "execution_count": 135,
   "metadata": {},
   "outputs": [
    {
     "data": {
      "text/html": [
       "<div>\n",
       "<style scoped>\n",
       "    .dataframe tbody tr th:only-of-type {\n",
       "        vertical-align: middle;\n",
       "    }\n",
       "\n",
       "    .dataframe tbody tr th {\n",
       "        vertical-align: top;\n",
       "    }\n",
       "\n",
       "    .dataframe thead th {\n",
       "        text-align: right;\n",
       "    }\n",
       "</style>\n",
       "<table border=\"1\" class=\"dataframe\">\n",
       "  <thead>\n",
       "    <tr style=\"text-align: right;\">\n",
       "      <th></th>\n",
       "      <th>Control</th>\n",
       "      <th>Test</th>\n",
       "    </tr>\n",
       "  </thead>\n",
       "  <tbody>\n",
       "    <tr>\n",
       "      <th>ex_premiums_on_uid</th>\n",
       "      <td>0.098443</td>\n",
       "      <td>0.094708</td>\n",
       "    </tr>\n",
       "    <tr>\n",
       "      <th>premiums_on_uid</th>\n",
       "      <td>0.044514</td>\n",
       "      <td>0.036444</td>\n",
       "    </tr>\n",
       "    <tr>\n",
       "      <th>revenue_on_uid</th>\n",
       "      <td>523.210716</td>\n",
       "      <td>534.080316</td>\n",
       "    </tr>\n",
       "  </tbody>\n",
       "</table>\n",
       "</div>"
      ],
      "text/plain": [
       "                       Control        Test\n",
       "ex_premiums_on_uid    0.098443    0.094708\n",
       "premiums_on_uid       0.044514    0.036444\n",
       "revenue_on_uid      523.210716  534.080316"
      ]
     },
     "execution_count": 135,
     "metadata": {},
     "output_type": "execute_result"
    }
   ],
   "source": [
    "general_indicators"
   ]
  },
  {
   "cell_type": "markdown",
   "metadata": {},
   "source": [
    "**Предварительный расчет таких показателей как количество клиентов с бывшей и действующей подпиской на пользователя и выручки на количество пользователей (ARPU).**"
   ]
  },
  {
   "cell_type": "code",
   "execution_count": 24,
   "metadata": {},
   "outputs": [
    {
     "data": {
      "text/html": [
       "<div>\n",
       "<style scoped>\n",
       "    .dataframe tbody tr th:only-of-type {\n",
       "        vertical-align: middle;\n",
       "    }\n",
       "\n",
       "    .dataframe tbody tr th {\n",
       "        vertical-align: top;\n",
       "    }\n",
       "\n",
       "    .dataframe thead th {\n",
       "        text-align: right;\n",
       "    }\n",
       "</style>\n",
       "<table border=\"1\" class=\"dataframe\">\n",
       "  <thead>\n",
       "    <tr style=\"text-align: right;\">\n",
       "      <th></th>\n",
       "      <th>control_full</th>\n",
       "      <th>test</th>\n",
       "    </tr>\n",
       "  </thead>\n",
       "  <tbody>\n",
       "    <tr>\n",
       "      <th>clients</th>\n",
       "      <td>379</td>\n",
       "      <td>146</td>\n",
       "    </tr>\n",
       "    <tr>\n",
       "      <th>users</th>\n",
       "      <td>8604</td>\n",
       "      <td>4308</td>\n",
       "    </tr>\n",
       "  </tbody>\n",
       "</table>\n",
       "</div>"
      ],
      "text/plain": [
       "         control_full  test\n",
       "clients           379   146\n",
       "users            8604  4308"
      ]
     },
     "execution_count": 24,
     "metadata": {},
     "output_type": "execute_result"
    }
   ],
   "source": [
    "pd.DataFrame({'control_full': (control_full[control_full.total_revenue  !=  0].shape[0], control_full.shape[0]),\n",
    "              'test': (users_test[users_test.total_revenue  !=  0].shape[0], users_test.shape[0])},\n",
    "              index=['clients', 'users'])"
   ]
  },
  {
   "cell_type": "markdown",
   "metadata": {},
   "source": [
    "**Относительно небольшой процент клиентов из пользователей совершили покупки**"
   ]
  },
  {
   "cell_type": "code",
   "execution_count": 137,
   "metadata": {},
   "outputs": [
    {
     "data": {
      "text/plain": [
       "LeveneResult(statistic=0.09659654815825328, pvalue=0.7559577996728548)"
      ]
     },
     "execution_count": 137,
     "metadata": {},
     "output_type": "execute_result"
    }
   ],
   "source": [
    "levene(list(users_test.total_revenue),\n",
    "       list(control_full.total_revenue),\n",
    "       center='mean')"
   ]
  },
  {
   "cell_type": "markdown",
   "metadata": {},
   "source": [
    "**Проверим имеют ли выборки данных о выручке равные дисперсии. Р-значение составляет более 0,05. Это означает, что целесообразно не отвергать нулевую гипотезу, требование гомогенности дисперсий удовлетворено для последующего дисперсионного анализа средних нормированной выручки.**"
   ]
  },
  {
   "cell_type": "code",
   "execution_count": 136,
   "metadata": {},
   "outputs": [
    {
     "data": {
      "text/plain": [
       "F_onewayResult(statistic=0.011111300162398436, pvalue=0.916051998389317)"
      ]
     },
     "execution_count": 136,
     "metadata": {},
     "output_type": "execute_result"
    }
   ],
   "source": [
    "stats.f_oneway(list(users_test.total_revenue),\n",
    "               list(control_full.total_revenue))"
   ]
  },
  {
   "cell_type": "markdown",
   "metadata": {},
   "source": [
    "**Так как p-значение больше 0.05, то мы не отвергаем нулевую гипотезу и делаем вывод, что средние выручки для групп значимо не отличаются.**"
   ]
  },
  {
   "cell_type": "code",
   "execution_count": 40,
   "metadata": {},
   "outputs": [
    {
     "data": {
      "text/plain": [
       "ShapiroResult(statistic=0.9119991064071655, pvalue=4.6361325152163846e-14)"
      ]
     },
     "execution_count": 40,
     "metadata": {},
     "output_type": "execute_result"
    }
   ],
   "source": [
    "stats.shapiro(np.log(control_full[control_full.total_revenue != 0].total_revenue))"
   ]
  },
  {
   "cell_type": "code",
   "execution_count": 38,
   "metadata": {},
   "outputs": [
    {
     "data": {
      "text/plain": [
       "<seaborn.axisgrid.FacetGrid at 0x7fbb31453ef0>"
      ]
     },
     "execution_count": 38,
     "metadata": {},
     "output_type": "execute_result"
    },
    {
     "data": {
      "image/png": "[encoded data removed]",
      "text/plain": [
       "<Figure size 360x360 with 1 Axes>"
      ]
     },
     "metadata": {},
     "output_type": "display_data"
    }
   ],
   "source": [
    "sns.displot(np.log(control_full[control_full.total_revenue != 0].total_revenue), kde=False)"
   ]
  },
  {
   "cell_type": "markdown",
   "metadata": {},
   "source": [
    "**Нулевая гипотеза в случае Шапиро-Уилка — нормальность распределения, распределение выручки для контрольной группы явно отклоняется от нормального (даже без учета нулей), аналогично и в тестовой группе**"
   ]
  },
  {
   "cell_type": "code",
   "execution_count": 138,
   "metadata": {},
   "outputs": [
    {
     "data": {
      "application/vnd.jupyter.widget-view+json": {
       "model_id": "6b5d431eadb14ad2b0722ec4f1618adf",
       "version_major": 2,
       "version_minor": 0
      },
      "text/plain": [
       "HBox(children=(FloatProgress(value=0.0, max=1000.0), HTML(value='')))"
      ]
     },
     "metadata": {},
     "output_type": "display_data"
    },
    {
     "name": "stdout",
     "output_type": "stream",
     "text": [
      "\n"
     ]
    },
    {
     "data": {
      "image/png": "[encoded data removed]",
      "text/plain": [
       "<Figure size 432x288 with 1 Axes>"
      ]
     },
     "metadata": {},
     "output_type": "display_data"
    },
    {
     "data": {
      "text/plain": [
       "{'quants':                  0\n",
       " 0.025   592.916667\n",
       " 0.975  3809.320238,\n",
       " 'p_value': 0.007911663832772245}"
      ]
     },
     "execution_count": 138,
     "metadata": {},
     "output_type": "execute_result"
    }
   ],
   "source": [
    "get_bootstrap(\n",
    "    transactions_test.revenue,  # числовые значения первой выборки\n",
    "    control_transactions_full.revenue,  # числовые значения второй выборки\n",
    "    boot_it=1000,  # количество бутстрэп-подвыборок\n",
    "    statistic=np.mean,  # интересующая нас статистика (средние)\n",
    "    bootstrap_conf_level=0.95)  # уровень значимости "
   ]
  },
  {
   "cell_type": "code",
   "execution_count": 139,
   "metadata": {},
   "outputs": [
    {
     "data": {
      "text/plain": [
       "KstestResult(statistic=0.25656612890655445, pvalue=6.844746991419015e-12)"
      ]
     },
     "execution_count": 139,
     "metadata": {},
     "output_type": "execute_result"
    }
   ],
   "source": [
    "stats.ks_2samp(transactions_test.revenue, control_transactions_full.revenue)"
   ]
  },
  {
   "cell_type": "markdown",
   "metadata": {},
   "source": [
    "**Однако согласно данным о транзакциях разница в средних значениях выручки подтверждается вышеуказанными бутстрап-тестом и проверкой по критерию Колмогорова-Смирнова**"
   ]
  },
  {
   "cell_type": "code",
   "execution_count": 47,
   "metadata": {},
   "outputs": [],
   "source": [
    "premchi = np.array([[users_test.is_premium.sum(), users_test.shape[0] - users_test.is_premium.sum()],\n",
    "                [control_full.is_premium.sum(), control_full.shape[0] - control_full.is_premium.sum()]])"
   ]
  },
  {
   "cell_type": "code",
   "execution_count": 48,
   "metadata": {},
   "outputs": [
    {
     "name": "stdout",
     "output_type": "stream",
     "text": [
      "0.030770049237882124\n"
     ]
    }
   ],
   "source": [
    "print(stats.chi2_contingency(premchi, correction=False)[1])"
   ]
  },
  {
   "cell_type": "markdown",
   "metadata": {},
   "source": [
    "**Дополнительно проведем попарное сравнение наличия действующей подписки у пользователей в тестовой и контрольной группах. \n",
    "p-value менее уровня 5% подтверждает статзначимые различия между тестовой и контрольной группами. Таким образом цену за подписку повысили, выручка увеличилась, но количество подписок уменьшилось.**"
   ]
  },
  {
   "cell_type": "code",
   "execution_count": null,
   "metadata": {},
   "outputs": [],
   "source": []
  },
  {
   "cell_type": "markdown",
   "metadata": {},
   "source": [
    "#### Далее попробуем найти различия в группах пользователей по типу продукта"
   ]
  },
  {
   "cell_type": "code",
   "execution_count": 124,
   "metadata": {},
   "outputs": [],
   "source": [
    "product_type_comparison_avg = pd.concat([control_transactions_full.groupby('product_type')\n",
    "                                                                  .agg({'revenue': lambda x: x.mean().round(2)}),\n",
    "                                     transactions_test.groupby('product_type')\n",
    "                                                                  .agg({'revenue': lambda x: x.mean().round(2)})],\n",
    "                                     axis=1)"
   ]
  },
  {
   "cell_type": "code",
   "execution_count": 125,
   "metadata": {},
   "outputs": [],
   "source": [
    "product_type_comparison_avg.columns = ['control', 'test']"
   ]
  },
  {
   "cell_type": "code",
   "execution_count": 126,
   "metadata": {},
   "outputs": [
    {
     "data": {
      "text/html": [
       "<div>\n",
       "<style scoped>\n",
       "    .dataframe tbody tr th:only-of-type {\n",
       "        vertical-align: middle;\n",
       "    }\n",
       "\n",
       "    .dataframe tbody tr th {\n",
       "        vertical-align: top;\n",
       "    }\n",
       "\n",
       "    .dataframe thead th {\n",
       "        text-align: right;\n",
       "    }\n",
       "</style>\n",
       "<table border=\"1\" class=\"dataframe\">\n",
       "  <thead>\n",
       "    <tr style=\"text-align: right;\">\n",
       "      <th></th>\n",
       "      <th>control</th>\n",
       "      <th>test</th>\n",
       "    </tr>\n",
       "    <tr>\n",
       "      <th>product_type</th>\n",
       "      <th></th>\n",
       "      <th></th>\n",
       "    </tr>\n",
       "  </thead>\n",
       "  <tbody>\n",
       "    <tr>\n",
       "      <th>coins</th>\n",
       "      <td>4669.67</td>\n",
       "      <td>5341.28</td>\n",
       "    </tr>\n",
       "    <tr>\n",
       "      <th>other_type</th>\n",
       "      <td>3203.65</td>\n",
       "      <td>5786.79</td>\n",
       "    </tr>\n",
       "    <tr>\n",
       "      <th>premium_no_trial</th>\n",
       "      <td>7155.25</td>\n",
       "      <td>10667.18</td>\n",
       "    </tr>\n",
       "    <tr>\n",
       "      <th>trial_premium</th>\n",
       "      <td>11805.84</td>\n",
       "      <td>12906.48</td>\n",
       "    </tr>\n",
       "  </tbody>\n",
       "</table>\n",
       "</div>"
      ],
      "text/plain": [
       "                   control      test\n",
       "product_type                        \n",
       "coins              4669.67   5341.28\n",
       "other_type         3203.65   5786.79\n",
       "premium_no_trial   7155.25  10667.18\n",
       "trial_premium     11805.84  12906.48"
      ]
     },
     "execution_count": 126,
     "metadata": {},
     "output_type": "execute_result"
    }
   ],
   "source": [
    "product_type_comparison_avg"
   ]
  },
  {
   "cell_type": "code",
   "execution_count": 117,
   "metadata": {},
   "outputs": [],
   "source": [
    "pt_comp = pd.DataFrame({'control_payments': control_transactions_full.groupby('product_type')\n",
    "                                                                     .agg({'payment_id': 'count'}).payment_id,\n",
    "                        'control_uids':control_transactions_full.groupby('product_type').agg({'uid': 'nunique'}).uid,\n",
    "                        'test_payments': transactions_test.groupby('product_type')\n",
    "                                                          .agg({'payment_id': 'count'}).payment_id,\n",
    "                        'test_uids': transactions_test.groupby('product_type').agg({'uid': 'nunique'}).uid},\n",
    "                        index=['coins', 'other_type', 'premium_no_trial', 'trial_premium'])"
   ]
  },
  {
   "cell_type": "code",
   "execution_count": 127,
   "metadata": {},
   "outputs": [],
   "source": [
    "pt_comp['control_payments_on_uid'] = (pt_comp.control_payments / pt_comp.control_uids).round(2)\n",
    "pt_comp['test_payments_on_uid'] = (pt_comp.test_payments / pt_comp.test_uids).round(2)"
   ]
  },
  {
   "cell_type": "code",
   "execution_count": 128,
   "metadata": {},
   "outputs": [
    {
     "data": {
      "text/html": [
       "<div>\n",
       "<style scoped>\n",
       "    .dataframe tbody tr th:only-of-type {\n",
       "        vertical-align: middle;\n",
       "    }\n",
       "\n",
       "    .dataframe tbody tr th {\n",
       "        vertical-align: top;\n",
       "    }\n",
       "\n",
       "    .dataframe thead th {\n",
       "        text-align: right;\n",
       "    }\n",
       "</style>\n",
       "<table border=\"1\" class=\"dataframe\">\n",
       "  <thead>\n",
       "    <tr style=\"text-align: right;\">\n",
       "      <th></th>\n",
       "      <th>control_payments</th>\n",
       "      <th>control_uids</th>\n",
       "      <th>test_payments</th>\n",
       "      <th>test_uids</th>\n",
       "      <th>control_payments_on_uid</th>\n",
       "      <th>test_payments_on_uid</th>\n",
       "    </tr>\n",
       "  </thead>\n",
       "  <tbody>\n",
       "    <tr>\n",
       "      <th>coins</th>\n",
       "      <td>273</td>\n",
       "      <td>134</td>\n",
       "      <td>106</td>\n",
       "      <td>52</td>\n",
       "      <td>2.04</td>\n",
       "      <td>2.04</td>\n",
       "    </tr>\n",
       "    <tr>\n",
       "      <th>other_type</th>\n",
       "      <td>99</td>\n",
       "      <td>63</td>\n",
       "      <td>29</td>\n",
       "      <td>19</td>\n",
       "      <td>1.57</td>\n",
       "      <td>1.53</td>\n",
       "    </tr>\n",
       "    <tr>\n",
       "      <th>premium_no_trial</th>\n",
       "      <td>213</td>\n",
       "      <td>201</td>\n",
       "      <td>76</td>\n",
       "      <td>67</td>\n",
       "      <td>1.06</td>\n",
       "      <td>1.13</td>\n",
       "    </tr>\n",
       "    <tr>\n",
       "      <th>trial_premium</th>\n",
       "      <td>120</td>\n",
       "      <td>120</td>\n",
       "      <td>62</td>\n",
       "      <td>61</td>\n",
       "      <td>1.00</td>\n",
       "      <td>1.02</td>\n",
       "    </tr>\n",
       "  </tbody>\n",
       "</table>\n",
       "</div>"
      ],
      "text/plain": [
       "                  control_payments  control_uids  test_payments  test_uids  \\\n",
       "coins                          273           134            106         52   \n",
       "other_type                      99            63             29         19   \n",
       "premium_no_trial               213           201             76         67   \n",
       "trial_premium                  120           120             62         61   \n",
       "\n",
       "                  control_payments_on_uid  test_payments_on_uid  \n",
       "coins                                2.04                  2.04  \n",
       "other_type                           1.57                  1.53  \n",
       "premium_no_trial                     1.06                  1.13  \n",
       "trial_premium                        1.00                  1.02  "
      ]
     },
     "execution_count": 128,
     "metadata": {},
     "output_type": "execute_result"
    }
   ],
   "source": [
    "pt_comp"
   ]
  },
  {
   "cell_type": "markdown",
   "metadata": {},
   "source": [
    "**Сравнение средней выручки по типу продукта показывает увеличение показателей относительно контрольной группы. Количество платежей на пользователя при этом не отличается.**"
   ]
  },
  {
   "cell_type": "code",
   "execution_count": null,
   "metadata": {},
   "outputs": [],
   "source": []
  },
  {
   "cell_type": "code",
   "execution_count": 173,
   "metadata": {},
   "outputs": [
    {
     "data": {
      "text/plain": [
       "uid\n",
       "False    4162\n",
       "Name: payment_id, dtype: int64"
      ]
     },
     "execution_count": 173,
     "metadata": {},
     "output_type": "execute_result"
    }
   ],
   "source": [
    "users_test.merge(transactions_test, on=['uid'], how='left').isna().groupby('uid').sum().payment_id"
   ]
  },
  {
   "cell_type": "code",
   "execution_count": 146,
   "metadata": {},
   "outputs": [
    {
     "data": {
      "text/plain": [
       "3.39"
      ]
     },
     "execution_count": 146,
     "metadata": {},
     "output_type": "execute_result"
    }
   ],
   "source": [
    "round(((users_test.shape[0] - 4162) / users_test.shape[0] * 100), 2)"
   ]
  },
  {
   "cell_type": "code",
   "execution_count": 174,
   "metadata": {},
   "outputs": [
    {
     "data": {
      "text/plain": [
       "uid\n",
       "False    8224\n",
       "Name: payment_id, dtype: int64"
      ]
     },
     "execution_count": 174,
     "metadata": {},
     "output_type": "execute_result"
    }
   ],
   "source": [
    "control_full.merge(control_transactions_full, on=['uid'], how='left').isna().groupby('uid').sum().payment_id"
   ]
  },
  {
   "cell_type": "code",
   "execution_count": 152,
   "metadata": {},
   "outputs": [
    {
     "data": {
      "text/plain": [
       "4.42"
      ]
     },
     "execution_count": 152,
     "metadata": {},
     "output_type": "execute_result"
    }
   ],
   "source": [
    "round(((control_full.shape[0] - 8224) / control_full.shape[0] * 100), 2)"
   ]
  },
  {
   "cell_type": "markdown",
   "metadata": {},
   "source": [
    "**Процент конверсии в покупку уменьшился приблизительно на 1% (доля клиентов от пользователей)**"
   ]
  },
  {
   "cell_type": "code",
   "execution_count": 170,
   "metadata": {},
   "outputs": [
    {
     "data": {
      "text/plain": [
       "3.6443825441039928"
      ]
     },
     "execution_count": 170,
     "metadata": {},
     "output_type": "execute_result"
    }
   ],
   "source": [
    "users_test.query(\"was_premium == 1 & is_premium == 1\").shape[0] / users_test.shape[0] * 100"
   ]
  },
  {
   "cell_type": "code",
   "execution_count": 171,
   "metadata": {},
   "outputs": [
    {
     "data": {
      "text/plain": [
       "4.451417945141794"
      ]
     },
     "execution_count": 171,
     "metadata": {},
     "output_type": "execute_result"
    }
   ],
   "source": [
    "control_full.query(\"was_premium == 1 & is_premium == 1\").shape[0] / control_full.shape[0] * 100"
   ]
  },
  {
   "cell_type": "markdown",
   "metadata": {},
   "source": [
    "**Приблизительно на 0,8 уменьшился процент клиентов, не отменивших премиум подписку.**"
   ]
  },
  {
   "cell_type": "code",
   "execution_count": 178,
   "metadata": {},
   "outputs": [
    {
     "data": {
      "text/html": [
       "<div>\n",
       "<style scoped>\n",
       "    .dataframe tbody tr th:only-of-type {\n",
       "        vertical-align: middle;\n",
       "    }\n",
       "\n",
       "    .dataframe tbody tr th {\n",
       "        vertical-align: top;\n",
       "    }\n",
       "\n",
       "    .dataframe thead th {\n",
       "        text-align: right;\n",
       "    }\n",
       "</style>\n",
       "<table border=\"1\" class=\"dataframe\">\n",
       "  <thead>\n",
       "    <tr style=\"text-align: right;\">\n",
       "      <th></th>\n",
       "      <th>uid</th>\n",
       "      <th>country</th>\n",
       "      <th>joined_at</th>\n",
       "      <th>paid_at</th>\n",
       "      <th>revenue</th>\n",
       "      <th>payment_id</th>\n",
       "      <th>from_page</th>\n",
       "      <th>product_type</th>\n",
       "    </tr>\n",
       "  </thead>\n",
       "  <tbody>\n",
       "    <tr>\n",
       "      <th>0</th>\n",
       "      <td>891345942</td>\n",
       "      <td>Italy</td>\n",
       "      <td>2017-05-11 13:00:00</td>\n",
       "      <td>2017-11-13 15:04:00</td>\n",
       "      <td>12909</td>\n",
       "      <td>147</td>\n",
       "      <td>trial_vip_popup</td>\n",
       "      <td>trial_premium</td>\n",
       "    </tr>\n",
       "    <tr>\n",
       "      <th>1</th>\n",
       "      <td>892054251</td>\n",
       "      <td>United States of America</td>\n",
       "      <td>2017-10-22 00:33:00</td>\n",
       "      <td>2017-10-30 01:37:00</td>\n",
       "      <td>13923</td>\n",
       "      <td>147</td>\n",
       "      <td>trial_vip_popup</td>\n",
       "      <td>trial_premium</td>\n",
       "    </tr>\n",
       "    <tr>\n",
       "      <th>2</th>\n",
       "      <td>892236423</td>\n",
       "      <td>United States of America</td>\n",
       "      <td>2017-10-18 01:09:00</td>\n",
       "      <td>2017-10-23 00:15:00</td>\n",
       "      <td>3783</td>\n",
       "      <td>67</td>\n",
       "      <td>menu</td>\n",
       "      <td>other_type</td>\n",
       "    </tr>\n",
       "    <tr>\n",
       "      <th>3</th>\n",
       "      <td>892236423</td>\n",
       "      <td>United States of America</td>\n",
       "      <td>2017-10-18 01:09:00</td>\n",
       "      <td>2017-10-27 22:38:00</td>\n",
       "      <td>3783</td>\n",
       "      <td>67</td>\n",
       "      <td>menu</td>\n",
       "      <td>other_type</td>\n",
       "    </tr>\n",
       "    <tr>\n",
       "      <th>4</th>\n",
       "      <td>892168170</td>\n",
       "      <td>United States of America</td>\n",
       "      <td>2017-10-19 17:10:00</td>\n",
       "      <td>2017-10-27 19:10:00</td>\n",
       "      <td>9087</td>\n",
       "      <td>147</td>\n",
       "      <td>trial_vip_popup</td>\n",
       "      <td>trial_premium</td>\n",
       "    </tr>\n",
       "    <tr>\n",
       "      <th>...</th>\n",
       "      <td>...</td>\n",
       "      <td>...</td>\n",
       "      <td>...</td>\n",
       "      <td>...</td>\n",
       "      <td>...</td>\n",
       "      <td>...</td>\n",
       "      <td>...</td>\n",
       "      <td>...</td>\n",
       "    </tr>\n",
       "    <tr>\n",
       "      <th>268</th>\n",
       "      <td>891419625</td>\n",
       "      <td>Israel</td>\n",
       "      <td>2017-04-11 05:58:00</td>\n",
       "      <td>2017-11-11 08:33:00</td>\n",
       "      <td>14352</td>\n",
       "      <td>147</td>\n",
       "      <td>trial_vip_popup</td>\n",
       "      <td>trial_premium</td>\n",
       "    </tr>\n",
       "    <tr>\n",
       "      <th>269</th>\n",
       "      <td>891447105</td>\n",
       "      <td>United Kingdom (Great Britain)</td>\n",
       "      <td>2017-03-11 17:05:00</td>\n",
       "      <td>2017-11-11 04:23:00</td>\n",
       "      <td>7319</td>\n",
       "      <td>147</td>\n",
       "      <td>fans</td>\n",
       "      <td>premium_no_trial</td>\n",
       "    </tr>\n",
       "    <tr>\n",
       "      <th>270</th>\n",
       "      <td>891497073</td>\n",
       "      <td>United States of America</td>\n",
       "      <td>2017-02-11 15:33:00</td>\n",
       "      <td>2017-05-11 04:06:00</td>\n",
       "      <td>2730</td>\n",
       "      <td>67</td>\n",
       "      <td>empty_likes</td>\n",
       "      <td>other_type</td>\n",
       "    </tr>\n",
       "    <tr>\n",
       "      <th>271</th>\n",
       "      <td>891406224</td>\n",
       "      <td>Israel</td>\n",
       "      <td>2017-04-11 12:56:00</td>\n",
       "      <td>2017-04-11 13:35:00</td>\n",
       "      <td>2743</td>\n",
       "      <td>67</td>\n",
       "      <td>empty_likes</td>\n",
       "      <td>other_type</td>\n",
       "    </tr>\n",
       "    <tr>\n",
       "      <th>272</th>\n",
       "      <td>891499359</td>\n",
       "      <td>Germany</td>\n",
       "      <td>2017-02-11 14:25:00</td>\n",
       "      <td>2017-02-11 14:30:00</td>\n",
       "      <td>1599</td>\n",
       "      <td>19</td>\n",
       "      <td>none</td>\n",
       "      <td>coins</td>\n",
       "    </tr>\n",
       "  </tbody>\n",
       "</table>\n",
       "<p>273 rows × 8 columns</p>\n",
       "</div>"
      ],
      "text/plain": [
       "           uid                         country            joined_at  \\\n",
       "0    891345942                           Italy  2017-05-11 13:00:00   \n",
       "1    892054251        United States of America  2017-10-22 00:33:00   \n",
       "2    892236423        United States of America  2017-10-18 01:09:00   \n",
       "3    892236423        United States of America  2017-10-18 01:09:00   \n",
       "4    892168170        United States of America  2017-10-19 17:10:00   \n",
       "..         ...                             ...                  ...   \n",
       "268  891419625                          Israel  2017-04-11 05:58:00   \n",
       "269  891447105  United Kingdom (Great Britain)  2017-03-11 17:05:00   \n",
       "270  891497073        United States of America  2017-02-11 15:33:00   \n",
       "271  891406224                          Israel  2017-04-11 12:56:00   \n",
       "272  891499359                         Germany  2017-02-11 14:25:00   \n",
       "\n",
       "                 paid_at  revenue  payment_id        from_page  \\\n",
       "0    2017-11-13 15:04:00    12909         147  trial_vip_popup   \n",
       "1    2017-10-30 01:37:00    13923         147  trial_vip_popup   \n",
       "2    2017-10-23 00:15:00     3783          67             menu   \n",
       "3    2017-10-27 22:38:00     3783          67             menu   \n",
       "4    2017-10-27 19:10:00     9087         147  trial_vip_popup   \n",
       "..                   ...      ...         ...              ...   \n",
       "268  2017-11-11 08:33:00    14352         147  trial_vip_popup   \n",
       "269  2017-11-11 04:23:00     7319         147             fans   \n",
       "270  2017-05-11 04:06:00     2730          67      empty_likes   \n",
       "271  2017-04-11 13:35:00     2743          67      empty_likes   \n",
       "272  2017-02-11 14:30:00     1599          19             none   \n",
       "\n",
       "         product_type  \n",
       "0       trial_premium  \n",
       "1       trial_premium  \n",
       "2          other_type  \n",
       "3          other_type  \n",
       "4       trial_premium  \n",
       "..                ...  \n",
       "268     trial_premium  \n",
       "269  premium_no_trial  \n",
       "270        other_type  \n",
       "271        other_type  \n",
       "272             coins  \n",
       "\n",
       "[273 rows x 8 columns]"
      ]
     },
     "execution_count": 178,
     "metadata": {},
     "output_type": "execute_result"
    }
   ],
   "source": [
    "transactions_test"
   ]
  },
  {
   "cell_type": "code",
   "execution_count": 180,
   "metadata": {},
   "outputs": [],
   "source": [
    "transactions_test.joined_at = pd.to_datetime(transactions_test.joined_at,\n",
    "                                             format='%Y-%m-%d %H:%M:%S')"
   ]
  },
  {
   "cell_type": "code",
   "execution_count": 181,
   "metadata": {},
   "outputs": [],
   "source": [
    "transactions_test.paid_at = pd.to_datetime(transactions_test.paid_at,\n",
    "                                             format='%Y-%m-%d %H:%M:%S') "
   ]
  },
  {
   "cell_type": "code",
   "execution_count": 182,
   "metadata": {},
   "outputs": [],
   "source": [
    "transactions_test['join_pay_diff'] = transactions_test.paid_at - transactions_test.joined_at"
   ]
  },
  {
   "cell_type": "code",
   "execution_count": 92,
   "metadata": {},
   "outputs": [
    {
     "data": {
      "text/plain": [
       "Timedelta('2 days 07:32:00')"
      ]
     },
     "execution_count": 92,
     "metadata": {},
     "output_type": "execute_result"
    }
   ],
   "source": [
    "transactions_test.join_pay_diff.median()"
   ]
  },
  {
   "cell_type": "code",
   "execution_count": 183,
   "metadata": {},
   "outputs": [],
   "source": [
    "control_transactions_full.joined_at = pd.to_datetime(control_transactions_full.joined_at,\n",
    "                                                  format='%Y-%m-%d %H:%M:%S')"
   ]
  },
  {
   "cell_type": "code",
   "execution_count": 184,
   "metadata": {},
   "outputs": [],
   "source": [
    "\n",
    "control_transactions_full.paid_at = pd.to_datetime(control_transactions_full.paid_at,\n",
    "                                                format='%Y-%m-%d %H:%M:%S') "
   ]
  },
  {
   "cell_type": "code",
   "execution_count": 185,
   "metadata": {},
   "outputs": [],
   "source": [
    "control_transactions_full['join_pay_diff'] = control_transactions_full.paid_at - control_transactions_full.joined_at"
   ]
  },
  {
   "cell_type": "code",
   "execution_count": 188,
   "metadata": {},
   "outputs": [
    {
     "data": {
      "text/plain": [
       "Timedelta('1 days 20:09:00')"
      ]
     },
     "execution_count": 188,
     "metadata": {},
     "output_type": "execute_result"
    }
   ],
   "source": [
    "control_transactions_full.join_pay_diff.median()"
   ]
  },
  {
   "cell_type": "markdown",
   "metadata": {},
   "source": [
    "**Медианная разница времени между регистрацией и покупкой увеличилась примерно на 11 часов.**"
   ]
  },
  {
   "cell_type": "markdown",
   "metadata": {},
   "source": [
    "# 3.2 Анализ характеристик групп пользователей<a name=\"groups\"></a>\n",
    "## 3.2.1 Гендерный состав"
   ]
  },
  {
   "cell_type": "code",
   "execution_count": 193,
   "metadata": {},
   "outputs": [],
   "source": [
    "age_rev_by_gender = pd.concat([control_full.groupby('gender').agg({'total_revenue': lambda x: x.mean().round(2)}),\n",
    "                               users_test.groupby('gender').agg({'total_revenue': lambda x: x.mean().round(2)})],\n",
    "                               axis=1)"
   ]
  },
  {
   "cell_type": "code",
   "execution_count": 196,
   "metadata": {},
   "outputs": [],
   "source": [
    "age_rev_by_gender.columns = ['control', 'test']"
   ]
  },
  {
   "cell_type": "code",
   "execution_count": 197,
   "metadata": {
    "scrolled": true
   },
   "outputs": [
    {
     "data": {
      "text/html": [
       "<div>\n",
       "<style scoped>\n",
       "    .dataframe tbody tr th:only-of-type {\n",
       "        vertical-align: middle;\n",
       "    }\n",
       "\n",
       "    .dataframe tbody tr th {\n",
       "        vertical-align: top;\n",
       "    }\n",
       "\n",
       "    .dataframe thead th {\n",
       "        text-align: right;\n",
       "    }\n",
       "</style>\n",
       "<table border=\"1\" class=\"dataframe\">\n",
       "  <thead>\n",
       "    <tr style=\"text-align: right;\">\n",
       "      <th></th>\n",
       "      <th>control</th>\n",
       "      <th>test</th>\n",
       "    </tr>\n",
       "    <tr>\n",
       "      <th>gender</th>\n",
       "      <th></th>\n",
       "      <th></th>\n",
       "    </tr>\n",
       "  </thead>\n",
       "  <tbody>\n",
       "    <tr>\n",
       "      <th>0</th>\n",
       "      <td>228.83</td>\n",
       "      <td>134.05</td>\n",
       "    </tr>\n",
       "    <tr>\n",
       "      <th>1</th>\n",
       "      <td>536.70</td>\n",
       "      <td>553.76</td>\n",
       "    </tr>\n",
       "  </tbody>\n",
       "</table>\n",
       "</div>"
      ],
      "text/plain": [
       "        control    test\n",
       "gender                 \n",
       "0        228.83  134.05\n",
       "1        536.70  553.76"
      ]
     },
     "execution_count": 197,
     "metadata": {},
     "output_type": "execute_result"
    }
   ],
   "source": [
    "age_rev_by_gender"
   ]
  },
  {
   "cell_type": "code",
   "execution_count": 198,
   "metadata": {},
   "outputs": [],
   "source": [
    "total_revenue_comparison = pd.concat([users_test.groupby('gender').agg({'total_revenue': 'sum'}),\n",
    "                                      control_full.groupby('gender').agg({'total_revenue': 'sum'})],\n",
    "                                      axis=1)"
   ]
  },
  {
   "cell_type": "code",
   "execution_count": 199,
   "metadata": {},
   "outputs": [],
   "source": [
    "total_revenue_comparison.columns = ['control', 'test']"
   ]
  },
  {
   "cell_type": "code",
   "execution_count": 200,
   "metadata": {},
   "outputs": [
    {
     "data": {
      "text/html": [
       "<div>\n",
       "<style scoped>\n",
       "    .dataframe tbody tr th:only-of-type {\n",
       "        vertical-align: middle;\n",
       "    }\n",
       "\n",
       "    .dataframe tbody tr th {\n",
       "        vertical-align: top;\n",
       "    }\n",
       "\n",
       "    .dataframe thead th {\n",
       "        text-align: right;\n",
       "    }\n",
       "</style>\n",
       "<table border=\"1\" class=\"dataframe\">\n",
       "  <thead>\n",
       "    <tr style=\"text-align: right;\">\n",
       "      <th></th>\n",
       "      <th>control</th>\n",
       "      <th>test</th>\n",
       "    </tr>\n",
       "    <tr>\n",
       "      <th>gender</th>\n",
       "      <th></th>\n",
       "      <th></th>\n",
       "    </tr>\n",
       "  </thead>\n",
       "  <tbody>\n",
       "    <tr>\n",
       "      <th>0</th>\n",
       "      <td>27079</td>\n",
       "      <td>86268</td>\n",
       "    </tr>\n",
       "    <tr>\n",
       "      <th>1</th>\n",
       "      <td>2273739</td>\n",
       "      <td>4415437</td>\n",
       "    </tr>\n",
       "  </tbody>\n",
       "</table>\n",
       "</div>"
      ],
      "text/plain": [
       "        control     test\n",
       "gender                  \n",
       "0         27079    86268\n",
       "1       2273739  4415437"
      ]
     },
     "execution_count": 200,
     "metadata": {},
     "output_type": "execute_result"
    }
   ],
   "source": [
    "total_revenue_comparison"
   ]
  },
  {
   "cell_type": "code",
   "execution_count": 201,
   "metadata": {},
   "outputs": [
    {
     "data": {
      "text/html": [
       "<div>\n",
       "<style scoped>\n",
       "    .dataframe tbody tr th:only-of-type {\n",
       "        vertical-align: middle;\n",
       "    }\n",
       "\n",
       "    .dataframe tbody tr th {\n",
       "        vertical-align: top;\n",
       "    }\n",
       "\n",
       "    .dataframe thead th {\n",
       "        text-align: right;\n",
       "    }\n",
       "</style>\n",
       "<table border=\"1\" class=\"dataframe\">\n",
       "  <thead>\n",
       "    <tr style=\"text-align: right;\">\n",
       "      <th></th>\n",
       "      <th>test</th>\n",
       "      <th>control</th>\n",
       "    </tr>\n",
       "  </thead>\n",
       "  <tbody>\n",
       "    <tr>\n",
       "      <th>clients_gender_1</th>\n",
       "      <td>144</td>\n",
       "      <td>368</td>\n",
       "    </tr>\n",
       "    <tr>\n",
       "      <th>clients_gender_0</th>\n",
       "      <td>2</td>\n",
       "      <td>11</td>\n",
       "    </tr>\n",
       "  </tbody>\n",
       "</table>\n",
       "</div>"
      ],
      "text/plain": [
       "                  test  control\n",
       "clients_gender_1   144      368\n",
       "clients_gender_0     2       11"
      ]
     },
     "execution_count": 201,
     "metadata": {},
     "output_type": "execute_result"
    }
   ],
   "source": [
    "pd.DataFrame({'test': (users_test[users_test.gender == 1].query(\"total_revenue != 0\").shape[0],\n",
    "                  users_test[users_test.gender == 0].query(\"total_revenue != 0\").shape[0]),\n",
    "              'control': (control_full[control_full.gender == 1].query(\"total_revenue != 0\").shape[0],\n",
    "                  control_full[control_full.gender == 0].query(\"total_revenue != 0\").shape[0])},\n",
    "              index=['clients_gender_1', 'clients_gender_0'])"
   ]
  },
  {
   "cell_type": "markdown",
   "metadata": {},
   "source": [
    "**У пользователей с гендером 0 средняя выручка упала, но общая выросла. Для дальнейшего анализа представляется недостаточное количество наблюдений (2 и 11 клиентов соответственно).**"
   ]
  },
  {
   "cell_type": "code",
   "execution_count": 15,
   "metadata": {},
   "outputs": [
    {
     "data": {
      "text/plain": [
       "LeveneResult(statistic=2.8122497712907233, pvalue=0.0378387352504359)"
      ]
     },
     "execution_count": 15,
     "metadata": {},
     "output_type": "execute_result"
    }
   ],
   "source": [
    "levene(list(users_test[users_test.gender == 1].total_revenue),\n",
    "       list(users_test[users_test.gender == 0].total_revenue),\n",
    "       list(control_full[control_full.gender == 1].total_revenue),\n",
    "       list(control_full[control_full.gender == 0].total_revenue),\n",
    "       center='mean')"
   ]
  },
  {
   "cell_type": "markdown",
   "metadata": {},
   "source": [
    "**С учетом того, что дисперсии внутри наших групп отличаются (требование гомогенности дисперсий не удовлетворено) целесообразно провести тест Крускала-Уоллиса.** "
   ]
  },
  {
   "cell_type": "code",
   "execution_count": 22,
   "metadata": {},
   "outputs": [
    {
     "data": {
      "text/plain": [
       "KruskalResult(statistic=12.456189155495212, pvalue=0.005973163205387405)"
      ]
     },
     "execution_count": 22,
     "metadata": {},
     "output_type": "execute_result"
    }
   ],
   "source": [
    "stats.kruskal(users_test[users_test.gender == 1].total_revenue, users_test[users_test.gender == 0].total_revenue,\n",
    "    control_full[control_full.gender == 1].total_revenue, control_full[control_full.gender == 0].total_revenue)"
   ]
  },
  {
   "cell_type": "markdown",
   "metadata": {},
   "source": [
    "**Согласно значению pvalue нулевая гипотеза теста \"медиана одинакова для всех групп\" не может быть отвергнута.**"
   ]
  },
  {
   "cell_type": "code",
   "execution_count": null,
   "metadata": {},
   "outputs": [],
   "source": []
  },
  {
   "cell_type": "code",
   "execution_count": 24,
   "metadata": {},
   "outputs": [],
   "source": [
    "merged_test = transactions_test.merge(users_test, on=['uid'], how='left')\n",
    "merged_control = control_transactions_full.merge(control_full, on=['uid'], how='left')"
   ]
  },
  {
   "cell_type": "code",
   "execution_count": 28,
   "metadata": {},
   "outputs": [
    {
     "data": {
      "text/plain": [
       "KruskalResult(statistic=20.038378762655764, pvalue=0.0001666619546593342)"
      ]
     },
     "execution_count": 28,
     "metadata": {},
     "output_type": "execute_result"
    }
   ],
   "source": [
    "stats.kruskal(merged_test[merged_test.gender == 1].revenue,\n",
    "              merged_test[merged_test.gender == 0].revenue,\n",
    "              merged_control[merged_control.gender == 1].revenue,\n",
    "              merged_control[merged_control.gender == 0].revenue)"
   ]
  },
  {
   "cell_type": "markdown",
   "metadata": {},
   "source": [
    "**В данных по транзакциям статистически значимые отличия имеются**"
   ]
  },
  {
   "cell_type": "code",
   "execution_count": 34,
   "metadata": {},
   "outputs": [],
   "source": [
    "p_values_gender = sp.posthoc_dunn([merged_test[merged_test.gender == 1].revenue,\n",
    "                                   merged_test[merged_test.gender == 0].revenue,\n",
    "                                   merged_control[merged_control.gender == 1].revenue,\n",
    "                                   merged_control[merged_control.gender == 0].revenue], p_adjust='bonferroni')"
   ]
  },
  {
   "cell_type": "code",
   "execution_count": 35,
   "metadata": {},
   "outputs": [
    {
     "data": {
      "text/html": [
       "<div>\n",
       "<style scoped>\n",
       "    .dataframe tbody tr th:only-of-type {\n",
       "        vertical-align: middle;\n",
       "    }\n",
       "\n",
       "    .dataframe tbody tr th {\n",
       "        vertical-align: top;\n",
       "    }\n",
       "\n",
       "    .dataframe thead th {\n",
       "        text-align: right;\n",
       "    }\n",
       "</style>\n",
       "<table border=\"1\" class=\"dataframe\">\n",
       "  <thead>\n",
       "    <tr style=\"text-align: right;\">\n",
       "      <th></th>\n",
       "      <th>1</th>\n",
       "      <th>2</th>\n",
       "      <th>3</th>\n",
       "      <th>4</th>\n",
       "    </tr>\n",
       "  </thead>\n",
       "  <tbody>\n",
       "    <tr>\n",
       "      <th>1</th>\n",
       "      <td>False</td>\n",
       "      <td>False</td>\n",
       "      <td>True</td>\n",
       "      <td>False</td>\n",
       "    </tr>\n",
       "    <tr>\n",
       "      <th>2</th>\n",
       "      <td>False</td>\n",
       "      <td>False</td>\n",
       "      <td>False</td>\n",
       "      <td>False</td>\n",
       "    </tr>\n",
       "    <tr>\n",
       "      <th>3</th>\n",
       "      <td>True</td>\n",
       "      <td>False</td>\n",
       "      <td>False</td>\n",
       "      <td>False</td>\n",
       "    </tr>\n",
       "    <tr>\n",
       "      <th>4</th>\n",
       "      <td>False</td>\n",
       "      <td>False</td>\n",
       "      <td>False</td>\n",
       "      <td>False</td>\n",
       "    </tr>\n",
       "  </tbody>\n",
       "</table>\n",
       "</div>"
      ],
      "text/plain": [
       "       1      2      3      4\n",
       "1  False  False   True  False\n",
       "2  False  False  False  False\n",
       "3   True  False  False  False\n",
       "4  False  False  False  False"
      ]
     },
     "execution_count": 35,
     "metadata": {},
     "output_type": "execute_result"
    }
   ],
   "source": [
    "p_values_gender < 0.05"
   ]
  },
  {
   "cell_type": "markdown",
   "metadata": {},
   "source": [
    "**Отличия в выручке значимы только для гендера 1**"
   ]
  },
  {
   "cell_type": "code",
   "execution_count": null,
   "metadata": {},
   "outputs": [],
   "source": []
  },
  {
   "cell_type": "markdown",
   "metadata": {},
   "source": [
    "## 3.2.2 Привлекательность<a name=\"attraction\"></a>"
   ]
  },
  {
   "cell_type": "code",
   "execution_count": 57,
   "metadata": {},
   "outputs": [
    {
     "data": {
      "text/html": [
       "<div>\n",
       "<style scoped>\n",
       "    .dataframe tbody tr th:only-of-type {\n",
       "        vertical-align: middle;\n",
       "    }\n",
       "\n",
       "    .dataframe tbody tr th {\n",
       "        vertical-align: top;\n",
       "    }\n",
       "\n",
       "    .dataframe thead th {\n",
       "        text-align: right;\n",
       "    }\n",
       "</style>\n",
       "<table border=\"1\" class=\"dataframe\">\n",
       "  <thead>\n",
       "    <tr style=\"text-align: right;\">\n",
       "      <th></th>\n",
       "      <th>Test</th>\n",
       "      <th>Control_1</th>\n",
       "      <th>Control_2</th>\n",
       "    </tr>\n",
       "  </thead>\n",
       "  <tbody>\n",
       "    <tr>\n",
       "      <th>ex_premiums_on_uid</th>\n",
       "      <td>0.094708</td>\n",
       "      <td>0.100461</td>\n",
       "      <td>0.096388</td>\n",
       "    </tr>\n",
       "    <tr>\n",
       "      <th>premiums_on_uid</th>\n",
       "      <td>0.036444</td>\n",
       "      <td>0.044240</td>\n",
       "      <td>0.044794</td>\n",
       "    </tr>\n",
       "    <tr>\n",
       "      <th>revenue_on_uid</th>\n",
       "      <td>534.080316</td>\n",
       "      <td>594.761982</td>\n",
       "      <td>450.384146</td>\n",
       "    </tr>\n",
       "  </tbody>\n",
       "</table>\n",
       "</div>"
      ],
      "text/plain": [
       "                          Test   Control_1   Control_2\n",
       "ex_premiums_on_uid    0.094708    0.100461    0.096388\n",
       "premiums_on_uid       0.036444    0.044240    0.044794\n",
       "revenue_on_uid      534.080316  594.761982  450.384146"
      ]
     },
     "execution_count": 57,
     "metadata": {},
     "output_type": "execute_result"
    }
   ],
   "source": [
    "general_indicators"
   ]
  },
  {
   "cell_type": "code",
   "execution_count": 37,
   "metadata": {},
   "outputs": [
    {
     "name": "stdout",
     "output_type": "stream",
     "text": [
      "SpearmanrResult(correlation=0.05513051498203405, pvalue=0.00029435922237452814) , SpearmanrResult(correlation=0.04848306859709989, pvalue=6.821842348228197e-06)\n"
     ]
    }
   ],
   "source": [
    "print(stats.spearmanr(list(users_test.attraction_coeff),\n",
    "                      list(users_test.total_revenue)), ',',\n",
    "      stats.spearmanr(list(control_full.attraction_coeff),\n",
    "                      list(control_full.total_revenue)))"
   ]
  },
  {
   "cell_type": "markdown",
   "metadata": {},
   "source": [
    "**Распределения значений не являются нормальными, принимается решение о выборе коэффициента ранговой корреляции r-Спирмена. Выявлена значительная положительная корреляция между коэффициентом привлекательности и выручкой, которую можно не учитывать в силу величину коэффициента.**"
   ]
  },
  {
   "cell_type": "code",
   "execution_count": 41,
   "metadata": {},
   "outputs": [],
   "source": [
    "full_merged_data = pd.concat([merged_test, merged_control], axis=0)"
   ]
  },
  {
   "cell_type": "code",
   "execution_count": 42,
   "metadata": {
    "scrolled": false
   },
   "outputs": [
    {
     "data": {
      "text/plain": [
       "Text(0, 0.5, 'Выручка')"
      ]
     },
     "execution_count": 42,
     "metadata": {},
     "output_type": "execute_result"
    },
    {
     "data": {
      "image/png": "[encoded data removed]",
      "text/plain": [
       "<Figure size 720x360 with 1 Axes>"
      ]
     },
     "metadata": {},
     "output_type": "display_data"
    }
   ],
   "source": [
    "sns.set(style='whitegrid', rc={'figure.figsize': (10, 5)})\n",
    "sns.scatterplot(x='attraction_coeff', y='revenue', data=full_merged_data)\n",
    "plt.title('Взаимосвязь между коэффициентом привлекательности и выручкой')\n",
    "plt.xlabel('Коэффициент привлекательности')\n",
    "plt.ylabel('Выручка')"
   ]
  },
  {
   "cell_type": "code",
   "execution_count": 43,
   "metadata": {},
   "outputs": [
    {
     "data": {
      "text/plain": [
       "SpearmanrResult(correlation=0.006456503565335202, pvalue=0.8401840513916059)"
      ]
     },
     "execution_count": 43,
     "metadata": {},
     "output_type": "execute_result"
    }
   ],
   "source": [
    "stats.spearmanr(list(full_merged_data.attraction_coeff),\n",
    "                list(full_merged_data.revenue))"
   ]
  },
  {
   "cell_type": "code",
   "execution_count": 45,
   "metadata": {},
   "outputs": [
    {
     "data": {
      "text/plain": [
       "0.4     113.4\n",
       "0.7     500.0\n",
       "1.0    1000.0\n",
       "Name: attraction_coeff, dtype: float64"
      ]
     },
     "execution_count": 45,
     "metadata": {},
     "output_type": "execute_result"
    }
   ],
   "source": [
    "full_data.attraction_coeff.quantile(q=[0.4, 0.7, 1])"
   ]
  },
  {
   "cell_type": "markdown",
   "metadata": {},
   "source": [
    "*В имеющихся данных большое количество пользователей с коэффициентом равным нулю,  методом подбора можно определить вышеуказанные границы групп пользователей*"
   ]
  },
  {
   "cell_type": "code",
   "execution_count": 46,
   "metadata": {},
   "outputs": [],
   "source": [
    "group1 = merged_test.query('attraction_coeff < 113').revenue \n",
    "group2 = merged_test.query('113 < attraction_coeff < 500').revenue \n",
    "group3 = merged_test.query('attraction_coeff > 500').revenue \n",
    "group4 = merged_control.query('attraction_coeff < 113').revenue \n",
    "group5 = merged_control.query('113 < attraction_coeff < 500').revenue \n",
    "group6 = merged_control.query('attraction_coeff > 500').revenue "
   ]
  },
  {
   "cell_type": "code",
   "execution_count": 47,
   "metadata": {},
   "outputs": [
    {
     "data": {
      "text/plain": [
       "KruskalResult(statistic=26.09664700361864, pvalue=8.546583881232363e-05)"
      ]
     },
     "execution_count": 47,
     "metadata": {},
     "output_type": "execute_result"
    }
   ],
   "source": [
    "stats.kruskal(group1, group2, group3, group4, group5, group6)"
   ]
  },
  {
   "cell_type": "markdown",
   "metadata": {},
   "source": [
    "**Если результаты теста Краскела-Уоллиса статистически значимы, целесообразно провести тест Данна, чтобы точно определить, какие группы отличаются.**"
   ]
  },
  {
   "cell_type": "code",
   "execution_count": 48,
   "metadata": {},
   "outputs": [],
   "source": [
    "p_values_coeff = sp.posthoc_dunn([group1, group2, group3, group4, group5, group6], p_adjust='bonferroni')"
   ]
  },
  {
   "cell_type": "code",
   "execution_count": 50,
   "metadata": {},
   "outputs": [
    {
     "data": {
      "text/html": [
       "<div>\n",
       "<style scoped>\n",
       "    .dataframe tbody tr th:only-of-type {\n",
       "        vertical-align: middle;\n",
       "    }\n",
       "\n",
       "    .dataframe tbody tr th {\n",
       "        vertical-align: top;\n",
       "    }\n",
       "\n",
       "    .dataframe thead th {\n",
       "        text-align: right;\n",
       "    }\n",
       "</style>\n",
       "<table border=\"1\" class=\"dataframe\">\n",
       "  <thead>\n",
       "    <tr style=\"text-align: right;\">\n",
       "      <th></th>\n",
       "      <th>1</th>\n",
       "      <th>2</th>\n",
       "      <th>3</th>\n",
       "      <th>4</th>\n",
       "      <th>5</th>\n",
       "      <th>6</th>\n",
       "    </tr>\n",
       "  </thead>\n",
       "  <tbody>\n",
       "    <tr>\n",
       "      <th>1</th>\n",
       "      <td>False</td>\n",
       "      <td>False</td>\n",
       "      <td>False</td>\n",
       "      <td>False</td>\n",
       "      <td>False</td>\n",
       "      <td>False</td>\n",
       "    </tr>\n",
       "    <tr>\n",
       "      <th>2</th>\n",
       "      <td>False</td>\n",
       "      <td>False</td>\n",
       "      <td>False</td>\n",
       "      <td>False</td>\n",
       "      <td>True</td>\n",
       "      <td>False</td>\n",
       "    </tr>\n",
       "    <tr>\n",
       "      <th>3</th>\n",
       "      <td>False</td>\n",
       "      <td>False</td>\n",
       "      <td>False</td>\n",
       "      <td>False</td>\n",
       "      <td>False</td>\n",
       "      <td>False</td>\n",
       "    </tr>\n",
       "    <tr>\n",
       "      <th>4</th>\n",
       "      <td>False</td>\n",
       "      <td>False</td>\n",
       "      <td>False</td>\n",
       "      <td>False</td>\n",
       "      <td>False</td>\n",
       "      <td>False</td>\n",
       "    </tr>\n",
       "    <tr>\n",
       "      <th>5</th>\n",
       "      <td>False</td>\n",
       "      <td>True</td>\n",
       "      <td>False</td>\n",
       "      <td>False</td>\n",
       "      <td>False</td>\n",
       "      <td>True</td>\n",
       "    </tr>\n",
       "    <tr>\n",
       "      <th>6</th>\n",
       "      <td>False</td>\n",
       "      <td>False</td>\n",
       "      <td>False</td>\n",
       "      <td>False</td>\n",
       "      <td>True</td>\n",
       "      <td>False</td>\n",
       "    </tr>\n",
       "  </tbody>\n",
       "</table>\n",
       "</div>"
      ],
      "text/plain": [
       "       1      2      3      4      5      6\n",
       "1  False  False  False  False  False  False\n",
       "2  False  False  False  False   True  False\n",
       "3  False  False  False  False  False  False\n",
       "4  False  False  False  False  False  False\n",
       "5  False   True  False  False  False   True\n",
       "6  False  False  False  False   True  False"
      ]
     },
     "execution_count": 50,
     "metadata": {},
     "output_type": "execute_result"
    }
   ],
   "source": [
    "p_values_coeff < 0.05"
   ]
  },
  {
   "cell_type": "markdown",
   "metadata": {},
   "source": [
    "**В представленной таблице нас интересуют пары 1-4, 2-5, 3-6. Для группы пользователей с коэффициентом привлекательности от 113 до 500 имеются статистически значимые различия.**"
   ]
  },
  {
   "cell_type": "code",
   "execution_count": null,
   "metadata": {},
   "outputs": [],
   "source": []
  },
  {
   "cell_type": "markdown",
   "metadata": {},
   "source": [
    "## 3.2.3 Количество посещений<a name=\"visits\"></a>"
   ]
  },
  {
   "cell_type": "code",
   "execution_count": 52,
   "metadata": {},
   "outputs": [],
   "source": [
    "data_for_split = full_data[['uid', 'visit_days', 'total_revenue', 'group']] "
   ]
  },
  {
   "cell_type": "code",
   "execution_count": 53,
   "metadata": {},
   "outputs": [],
   "source": [
    "data_for_split = data_for_split.fillna(0)"
   ]
  },
  {
   "cell_type": "code",
   "execution_count": 65,
   "metadata": {},
   "outputs": [],
   "source": [
    "data_for_split[\"total_days\"] = (data_for_split.visit_days.astype(str).apply(lambda x: x.split(',')[-1])).astype(int)"
   ]
  },
  {
   "cell_type": "code",
   "execution_count": 66,
   "metadata": {},
   "outputs": [
    {
     "data": {
      "text/html": [
       "<div>\n",
       "<style scoped>\n",
       "    .dataframe tbody tr th:only-of-type {\n",
       "        vertical-align: middle;\n",
       "    }\n",
       "\n",
       "    .dataframe tbody tr th {\n",
       "        vertical-align: top;\n",
       "    }\n",
       "\n",
       "    .dataframe thead th {\n",
       "        text-align: right;\n",
       "    }\n",
       "</style>\n",
       "<table border=\"1\" class=\"dataframe\">\n",
       "  <thead>\n",
       "    <tr style=\"text-align: right;\">\n",
       "      <th></th>\n",
       "      <th>uid</th>\n",
       "      <th>visit_days</th>\n",
       "      <th>total_revenue</th>\n",
       "      <th>group</th>\n",
       "      <th>total_days</th>\n",
       "    </tr>\n",
       "  </thead>\n",
       "  <tbody>\n",
       "    <tr>\n",
       "      <th>0</th>\n",
       "      <td>892319115</td>\n",
       "      <td>1,2,3,4,5,6</td>\n",
       "      <td>0</td>\n",
       "      <td>control</td>\n",
       "      <td>6</td>\n",
       "    </tr>\n",
       "    <tr>\n",
       "      <th>1</th>\n",
       "      <td>891248523</td>\n",
       "      <td>1,2</td>\n",
       "      <td>0</td>\n",
       "      <td>control</td>\n",
       "      <td>2</td>\n",
       "    </tr>\n",
       "    <tr>\n",
       "      <th>2</th>\n",
       "      <td>891670932</td>\n",
       "      <td>1,2,3,5,6,8,9,11,13,16</td>\n",
       "      <td>0</td>\n",
       "      <td>control</td>\n",
       "      <td>16</td>\n",
       "    </tr>\n",
       "    <tr>\n",
       "      <th>3</th>\n",
       "      <td>891060786</td>\n",
       "      <td>1,2,3,4,5</td>\n",
       "      <td>0</td>\n",
       "      <td>control</td>\n",
       "      <td>5</td>\n",
       "    </tr>\n",
       "    <tr>\n",
       "      <th>4</th>\n",
       "      <td>892006554</td>\n",
       "      <td>1,2,3,5,6,7,8,9,10,12,15,16,17,19</td>\n",
       "      <td>0</td>\n",
       "      <td>control</td>\n",
       "      <td>19</td>\n",
       "    </tr>\n",
       "  </tbody>\n",
       "</table>\n",
       "</div>"
      ],
      "text/plain": [
       "         uid                         visit_days  total_revenue    group  \\\n",
       "0  892319115                        1,2,3,4,5,6              0  control   \n",
       "1  891248523                                1,2              0  control   \n",
       "2  891670932             1,2,3,5,6,8,9,11,13,16              0  control   \n",
       "3  891060786                          1,2,3,4,5              0  control   \n",
       "4  892006554  1,2,3,5,6,7,8,9,10,12,15,16,17,19              0  control   \n",
       "\n",
       "   total_days  \n",
       "0           6  \n",
       "1           2  \n",
       "2          16  \n",
       "3           5  \n",
       "4          19  "
      ]
     },
     "execution_count": 66,
     "metadata": {},
     "output_type": "execute_result"
    }
   ],
   "source": [
    "data_for_split.head()"
   ]
  },
  {
   "cell_type": "code",
   "execution_count": 56,
   "metadata": {},
   "outputs": [
    {
     "data": {
      "text/plain": [
       "SpearmanrResult(correlation=0.08801189806338636, pvalue=1.2531552460446705e-23)"
      ]
     },
     "execution_count": 56,
     "metadata": {},
     "output_type": "execute_result"
    }
   ],
   "source": [
    "stats.spearmanr(list(data_for_split.total_days),\n",
    "                list(data_for_split.total_revenue))"
   ]
  },
  {
   "cell_type": "code",
   "execution_count": 58,
   "metadata": {},
   "outputs": [],
   "source": [
    "avg_rev_per_days = data_for_split.groupby('total_days').agg({'total_revenue': 'mean'}) \\\n",
    "                                 .rename(columns={'total_revenue': 'avg_revenue'}) \\\n",
    "                                 .sort_values('avg_revenue', ascending=False) \\\n",
    "                                 .reset_index() \\\n",
    "                                 .head(10)"
   ]
  },
  {
   "cell_type": "code",
   "execution_count": 59,
   "metadata": {},
   "outputs": [
    {
     "data": {
      "text/html": [
       "<div>\n",
       "<style scoped>\n",
       "    .dataframe tbody tr th:only-of-type {\n",
       "        vertical-align: middle;\n",
       "    }\n",
       "\n",
       "    .dataframe tbody tr th {\n",
       "        vertical-align: top;\n",
       "    }\n",
       "\n",
       "    .dataframe thead th {\n",
       "        text-align: right;\n",
       "    }\n",
       "</style>\n",
       "<table border=\"1\" class=\"dataframe\">\n",
       "  <thead>\n",
       "    <tr style=\"text-align: right;\">\n",
       "      <th></th>\n",
       "      <th>total_days</th>\n",
       "      <th>avg_revenue</th>\n",
       "    </tr>\n",
       "  </thead>\n",
       "  <tbody>\n",
       "    <tr>\n",
       "      <th>0</th>\n",
       "      <td>28</td>\n",
       "      <td>4875.216667</td>\n",
       "    </tr>\n",
       "    <tr>\n",
       "      <th>1</th>\n",
       "      <td>15</td>\n",
       "      <td>3202.663043</td>\n",
       "    </tr>\n",
       "    <tr>\n",
       "      <th>2</th>\n",
       "      <td>27</td>\n",
       "      <td>2146.054054</td>\n",
       "    </tr>\n",
       "    <tr>\n",
       "      <th>3</th>\n",
       "      <td>25</td>\n",
       "      <td>2009.913043</td>\n",
       "    </tr>\n",
       "    <tr>\n",
       "      <th>4</th>\n",
       "      <td>60</td>\n",
       "      <td>1914.972222</td>\n",
       "    </tr>\n",
       "    <tr>\n",
       "      <th>5</th>\n",
       "      <td>26</td>\n",
       "      <td>1817.531646</td>\n",
       "    </tr>\n",
       "    <tr>\n",
       "      <th>6</th>\n",
       "      <td>29</td>\n",
       "      <td>1708.032258</td>\n",
       "    </tr>\n",
       "    <tr>\n",
       "      <th>7</th>\n",
       "      <td>20</td>\n",
       "      <td>1611.878505</td>\n",
       "    </tr>\n",
       "    <tr>\n",
       "      <th>8</th>\n",
       "      <td>24</td>\n",
       "      <td>1487.792079</td>\n",
       "    </tr>\n",
       "    <tr>\n",
       "      <th>9</th>\n",
       "      <td>16</td>\n",
       "      <td>1337.562814</td>\n",
       "    </tr>\n",
       "  </tbody>\n",
       "</table>\n",
       "</div>"
      ],
      "text/plain": [
       "  total_days  avg_revenue\n",
       "0         28  4875.216667\n",
       "1         15  3202.663043\n",
       "2         27  2146.054054\n",
       "3         25  2009.913043\n",
       "4         60  1914.972222\n",
       "5         26  1817.531646\n",
       "6         29  1708.032258\n",
       "7         20  1611.878505\n",
       "8         24  1487.792079\n",
       "9         16  1337.562814"
      ]
     },
     "execution_count": 59,
     "metadata": {},
     "output_type": "execute_result"
    }
   ],
   "source": [
    "avg_rev_per_days"
   ]
  },
  {
   "cell_type": "code",
   "execution_count": 60,
   "metadata": {},
   "outputs": [
    {
     "name": "stdout",
     "output_type": "stream",
     "text": [
      "27.0 , 12.6\n"
     ]
    }
   ],
   "source": [
    "print(avg_rev_per_days.total_days.astype('float64').mean().round(0), ',',\n",
    "      avg_rev_per_days.total_days.astype('float64').std().round(1))"
   ]
  },
  {
   "cell_type": "markdown",
   "metadata": {},
   "source": [
    "**Для топ 10 групп пользователей по средней выручке, которые провели Х дней в приложении, среднее количество дней в приложении - 27. \\\n",
    "Стандартное отклонение при этом составило 12 дней. Таким образом стоит уделять внимание группе пользователей, посетивших приложение от 15 до 29 дней.**"
   ]
  },
  {
   "cell_type": "code",
   "execution_count": 85,
   "metadata": {},
   "outputs": [
    {
     "data": {
      "text/plain": [
       "KruskalResult(statistic=149.80777008634732, pvalue=2.898903854513447e-32)"
      ]
     },
     "execution_count": 85,
     "metadata": {},
     "output_type": "execute_result"
    }
   ],
   "source": [
    "stats.kruskal(data_for_split[data_for_split.group == 'control'].query('15 < total_days < 29').total_revenue,\n",
    "              data_for_split[data_for_split.group == 'test'].query('15 < total_days < 29').total_revenue,\n",
    "              data_for_split[data_for_split.group == 'control']\n",
    "                  .query('total_days < 15 | total_days > 29').total_revenue,\n",
    "              data_for_split[data_for_split.group == 'test']\n",
    "                  .query('total_days < 15 | total_days > 29').total_revenue)"
   ]
  },
  {
   "cell_type": "code",
   "execution_count": 81,
   "metadata": {},
   "outputs": [],
   "source": [
    "p_values_days = sp.posthoc_dunn([data_for_split[data_for_split.group == 'control']\n",
    "                                 .query('15 < total_days < 29').total_revenue,\n",
    "                                 data_for_split[data_for_split.group == 'test']\n",
    "                                 .query('15 < total_days < 29').total_revenue,\n",
    "                                 data_for_split[data_for_split.group == 'control']\n",
    "                                 .query('total_days < 15 | total_days > 29').total_revenue,\n",
    "                                 data_for_split[data_for_split.group == 'test']\n",
    "                                 .query('total_days < 15 | total_days > 29').total_revenue], p_adjust='bonferroni')"
   ]
  },
  {
   "cell_type": "code",
   "execution_count": 84,
   "metadata": {},
   "outputs": [
    {
     "data": {
      "text/html": [
       "<div>\n",
       "<style scoped>\n",
       "    .dataframe tbody tr th:only-of-type {\n",
       "        vertical-align: middle;\n",
       "    }\n",
       "\n",
       "    .dataframe tbody tr th {\n",
       "        vertical-align: top;\n",
       "    }\n",
       "\n",
       "    .dataframe thead th {\n",
       "        text-align: right;\n",
       "    }\n",
       "</style>\n",
       "<table border=\"1\" class=\"dataframe\">\n",
       "  <thead>\n",
       "    <tr style=\"text-align: right;\">\n",
       "      <th></th>\n",
       "      <th>1</th>\n",
       "      <th>2</th>\n",
       "      <th>3</th>\n",
       "      <th>4</th>\n",
       "    </tr>\n",
       "  </thead>\n",
       "  <tbody>\n",
       "    <tr>\n",
       "      <th>1</th>\n",
       "      <td>False</td>\n",
       "      <td>True</td>\n",
       "      <td>True</td>\n",
       "      <td>True</td>\n",
       "    </tr>\n",
       "    <tr>\n",
       "      <th>2</th>\n",
       "      <td>True</td>\n",
       "      <td>False</td>\n",
       "      <td>True</td>\n",
       "      <td>True</td>\n",
       "    </tr>\n",
       "    <tr>\n",
       "      <th>3</th>\n",
       "      <td>True</td>\n",
       "      <td>True</td>\n",
       "      <td>False</td>\n",
       "      <td>False</td>\n",
       "    </tr>\n",
       "    <tr>\n",
       "      <th>4</th>\n",
       "      <td>True</td>\n",
       "      <td>True</td>\n",
       "      <td>False</td>\n",
       "      <td>False</td>\n",
       "    </tr>\n",
       "  </tbody>\n",
       "</table>\n",
       "</div>"
      ],
      "text/plain": [
       "       1      2      3      4\n",
       "1  False   True   True   True\n",
       "2   True  False   True   True\n",
       "3   True   True  False  False\n",
       "4   True   True  False  False"
      ]
     },
     "execution_count": 84,
     "metadata": {},
     "output_type": "execute_result"
    }
   ],
   "source": [
    "p_values_days < 0.05"
   ]
  },
  {
   "cell_type": "markdown",
   "metadata": {},
   "source": [
    "**Различия в выручке для выбранного диапазона посещаемости приложения значимы для тестовой и контрольных групп**"
   ]
  },
  {
   "cell_type": "markdown",
   "metadata": {},
   "source": [
    "## 3.2.4 Страны<a name=\"country\"></a>"
   ]
  },
  {
   "cell_type": "code",
   "execution_count": 90,
   "metadata": {},
   "outputs": [],
   "source": [
    "country_rev_avg = pd.concat([control_full.groupby('country').agg({'total_revenue': 'mean'})\n",
    "                                                   .sort_values('total_revenue', ascending=False),\n",
    "                                    users_test.groupby('country').agg({'total_revenue': 'mean'})\n",
    "                                                   .sort_values('total_revenue', ascending=False)],\n",
    "                                    axis=1)"
   ]
  },
  {
   "cell_type": "code",
   "execution_count": 91,
   "metadata": {},
   "outputs": [],
   "source": [
    "country_rev_avg.columns = ['control', 'test']"
   ]
  },
  {
   "cell_type": "code",
   "execution_count": 96,
   "metadata": {},
   "outputs": [],
   "source": [
    "country_rev_avg['avg_rev_diff'] = country_rev_avg.test - country_rev_avg.control"
   ]
  },
  {
   "cell_type": "code",
   "execution_count": 97,
   "metadata": {},
   "outputs": [
    {
     "data": {
      "text/html": [
       "<div>\n",
       "<style scoped>\n",
       "    .dataframe tbody tr th:only-of-type {\n",
       "        vertical-align: middle;\n",
       "    }\n",
       "\n",
       "    .dataframe tbody tr th {\n",
       "        vertical-align: top;\n",
       "    }\n",
       "\n",
       "    .dataframe thead th {\n",
       "        text-align: right;\n",
       "    }\n",
       "</style>\n",
       "<table border=\"1\" class=\"dataframe\">\n",
       "  <thead>\n",
       "    <tr style=\"text-align: right;\">\n",
       "      <th></th>\n",
       "      <th>control</th>\n",
       "      <th>test</th>\n",
       "      <th>rev_diff</th>\n",
       "      <th>avg_rev_diff</th>\n",
       "    </tr>\n",
       "  </thead>\n",
       "  <tbody>\n",
       "    <tr>\n",
       "      <th>Mexico</th>\n",
       "      <td>0.000000</td>\n",
       "      <td>887.714286</td>\n",
       "      <td>887.714286</td>\n",
       "      <td>887.714286</td>\n",
       "    </tr>\n",
       "    <tr>\n",
       "      <th>Spain</th>\n",
       "      <td>449.138037</td>\n",
       "      <td>948.265781</td>\n",
       "      <td>499.127744</td>\n",
       "      <td>499.127744</td>\n",
       "    </tr>\n",
       "    <tr>\n",
       "      <th>United Arab Emirates</th>\n",
       "      <td>460.971292</td>\n",
       "      <td>945.951327</td>\n",
       "      <td>484.980036</td>\n",
       "      <td>484.980036</td>\n",
       "    </tr>\n",
       "    <tr>\n",
       "      <th>France</th>\n",
       "      <td>446.949062</td>\n",
       "      <td>706.454039</td>\n",
       "      <td>259.504977</td>\n",
       "      <td>259.504977</td>\n",
       "    </tr>\n",
       "    <tr>\n",
       "      <th>Germany</th>\n",
       "      <td>244.633333</td>\n",
       "      <td>459.789474</td>\n",
       "      <td>215.156140</td>\n",
       "      <td>215.156140</td>\n",
       "    </tr>\n",
       "    <tr>\n",
       "      <th>Argentina</th>\n",
       "      <td>338.049618</td>\n",
       "      <td>474.795455</td>\n",
       "      <td>136.745836</td>\n",
       "      <td>136.745836</td>\n",
       "    </tr>\n",
       "    <tr>\n",
       "      <th>United States of America</th>\n",
       "      <td>438.922557</td>\n",
       "      <td>497.819310</td>\n",
       "      <td>58.896754</td>\n",
       "      <td>58.896754</td>\n",
       "    </tr>\n",
       "    <tr>\n",
       "      <th>Canada</th>\n",
       "      <td>457.425373</td>\n",
       "      <td>463.255474</td>\n",
       "      <td>5.830101</td>\n",
       "      <td>5.830101</td>\n",
       "    </tr>\n",
       "  </tbody>\n",
       "</table>\n",
       "</div>"
      ],
      "text/plain": [
       "                             control        test    rev_diff  avg_rev_diff\n",
       "Mexico                      0.000000  887.714286  887.714286    887.714286\n",
       "Spain                     449.138037  948.265781  499.127744    499.127744\n",
       "United Arab Emirates      460.971292  945.951327  484.980036    484.980036\n",
       "France                    446.949062  706.454039  259.504977    259.504977\n",
       "Germany                   244.633333  459.789474  215.156140    215.156140\n",
       "Argentina                 338.049618  474.795455  136.745836    136.745836\n",
       "United States of America  438.922557  497.819310   58.896754     58.896754\n",
       "Canada                    457.425373  463.255474    5.830101      5.830101"
      ]
     },
     "execution_count": 97,
     "metadata": {},
     "output_type": "execute_result"
    }
   ],
   "source": [
    "country_rev_avg[country_rev_avg.rev_diff > 0].sort_values('avg_rev_diff', ascending=False)"
   ]
  },
  {
   "cell_type": "markdown",
   "metadata": {},
   "source": [
    "**Необходимо проверить является ли статзначимой разница в распределении выручки за премиум подписки по странам Spain, UA Emirates, France, Germany, Argentina, USA.**"
   ]
  },
  {
   "cell_type": "code",
   "execution_count": 101,
   "metadata": {},
   "outputs": [],
   "source": [
    "country_list = ['Spain', 'United Arab Emirates', 'France', 'Germany', 'Argentina', 'United States of America']"
   ]
  },
  {
   "cell_type": "code",
   "execution_count": 104,
   "metadata": {},
   "outputs": [],
   "source": [
    "country_df = full_merged_data.query(\"country_x == @country_list\")"
   ]
  },
  {
   "cell_type": "code",
   "execution_count": 112,
   "metadata": {},
   "outputs": [],
   "source": [
    "country_group_1 = country_df[country_df.group == 'control'].query(\"country_x == 'Spain'\").revenue\n",
    "country_group_2 = country_df[country_df.group == 'control'].query(\"country_x == 'United Arab Emirates'\").revenue\n",
    "country_group_3 = country_df[country_df.group == 'control'].query(\"country_x == 'France'\").revenue\n",
    "country_group_4 = country_df[country_df.group == 'control'].query(\"country_x == 'Germany'\").revenue\n",
    "country_group_5 = country_df[country_df.group == 'control'].query(\"country_x == 'Argentina'\").revenue\n",
    "country_group_6 = country_df[country_df.group == 'control'].query(\"country_x == 'United States of America'\").revenue\n",
    "\n",
    "country_group_7 = country_df[country_df.group == 'test'].query(\"country_x == 'Spain'\").revenue\n",
    "country_group_8 = country_df[country_df.group == 'test'].query(\"country_x == 'United Arab Emirates'\").revenue\n",
    "country_group_9 = country_df[country_df.group == 'test'].query(\"country_x == 'France'\").revenue\n",
    "country_group_10 = country_df[country_df.group == 'test'].query(\"country_x == 'Germany'\").revenue\n",
    "country_group_11 = country_df[country_df.group == 'test'].query(\"country_x == 'Argentina'\").revenue\n",
    "country_group_12 = country_df[country_df.group == 'test'].query(\"country_x == 'United States of America'\").revenue"
   ]
  },
  {
   "cell_type": "code",
   "execution_count": 113,
   "metadata": {},
   "outputs": [
    {
     "data": {
      "text/plain": [
       "KruskalResult(statistic=34.12054072740245, pvalue=0.000345633734617267)"
      ]
     },
     "execution_count": 113,
     "metadata": {},
     "output_type": "execute_result"
    }
   ],
   "source": [
    "stats.kruskal(country_group_1, country_group_2, country_group_3,\n",
    "              country_group_4, country_group_5, country_group_6,\n",
    "              country_group_7, country_group_8, country_group_9,\n",
    "              country_group_10, country_group_11, country_group_12)"
   ]
  },
  {
   "cell_type": "code",
   "execution_count": 116,
   "metadata": {},
   "outputs": [],
   "source": [
    "country_values = sp.posthoc_dunn([country_group_1, country_group_2, country_group_3,\n",
    "                 country_group_4, country_group_5, country_group_6,\n",
    "                 country_group_7, country_group_8, country_group_9,\n",
    "                 country_group_10, country_group_11, country_group_12], p_adjust='bonferroni') < 0.05"
   ]
  },
  {
   "cell_type": "code",
   "execution_count": 124,
   "metadata": {},
   "outputs": [
    {
     "data": {
      "text/html": [
       "<div>\n",
       "<style scoped>\n",
       "    .dataframe tbody tr th:only-of-type {\n",
       "        vertical-align: middle;\n",
       "    }\n",
       "\n",
       "    .dataframe tbody tr th {\n",
       "        vertical-align: top;\n",
       "    }\n",
       "\n",
       "    .dataframe thead th {\n",
       "        text-align: right;\n",
       "    }\n",
       "</style>\n",
       "<table border=\"1\" class=\"dataframe\">\n",
       "  <thead>\n",
       "    <tr style=\"text-align: right;\">\n",
       "      <th></th>\n",
       "      <th>1</th>\n",
       "      <th>2</th>\n",
       "      <th>3</th>\n",
       "      <th>4</th>\n",
       "      <th>5</th>\n",
       "      <th>6</th>\n",
       "    </tr>\n",
       "  </thead>\n",
       "  <tbody>\n",
       "    <tr>\n",
       "      <th>7</th>\n",
       "      <td>False</td>\n",
       "      <td>False</td>\n",
       "      <td>False</td>\n",
       "      <td>False</td>\n",
       "      <td>False</td>\n",
       "      <td>False</td>\n",
       "    </tr>\n",
       "    <tr>\n",
       "      <th>8</th>\n",
       "      <td>False</td>\n",
       "      <td>False</td>\n",
       "      <td>False</td>\n",
       "      <td>False</td>\n",
       "      <td>False</td>\n",
       "      <td>False</td>\n",
       "    </tr>\n",
       "    <tr>\n",
       "      <th>9</th>\n",
       "      <td>False</td>\n",
       "      <td>False</td>\n",
       "      <td>False</td>\n",
       "      <td>False</td>\n",
       "      <td>False</td>\n",
       "      <td>False</td>\n",
       "    </tr>\n",
       "    <tr>\n",
       "      <th>10</th>\n",
       "      <td>False</td>\n",
       "      <td>False</td>\n",
       "      <td>False</td>\n",
       "      <td>False</td>\n",
       "      <td>False</td>\n",
       "      <td>False</td>\n",
       "    </tr>\n",
       "    <tr>\n",
       "      <th>11</th>\n",
       "      <td>False</td>\n",
       "      <td>False</td>\n",
       "      <td>True</td>\n",
       "      <td>False</td>\n",
       "      <td>True</td>\n",
       "      <td>True</td>\n",
       "    </tr>\n",
       "    <tr>\n",
       "      <th>12</th>\n",
       "      <td>False</td>\n",
       "      <td>False</td>\n",
       "      <td>False</td>\n",
       "      <td>False</td>\n",
       "      <td>False</td>\n",
       "      <td>False</td>\n",
       "    </tr>\n",
       "  </tbody>\n",
       "</table>\n",
       "</div>"
      ],
      "text/plain": [
       "        1      2      3      4      5      6\n",
       "7   False  False  False  False  False  False\n",
       "8   False  False  False  False  False  False\n",
       "9   False  False  False  False  False  False\n",
       "10  False  False  False  False  False  False\n",
       "11  False  False   True  False   True   True\n",
       "12  False  False  False  False  False  False"
      ]
     },
     "execution_count": 124,
     "metadata": {},
     "output_type": "execute_result"
    }
   ],
   "source": [
    "country_values.iloc[6:12, 0:6]"
   ]
  },
  {
   "cell_type": "markdown",
   "metadata": {},
   "source": [
    "**По результатам теста значимые отличия обнаружены только для страны Argentina**"
   ]
  },
  {
   "cell_type": "markdown",
   "metadata": {},
   "source": [
    "## 3.2.5 Возраст<a name=\"ages\"></a>"
   ]
  },
  {
   "cell_type": "code",
   "execution_count": 126,
   "metadata": {},
   "outputs": [
    {
     "name": "stdout",
     "output_type": "stream",
     "text": [
      "0.052 , 0.31\n"
     ]
    }
   ],
   "source": [
    "print(stats.spearmanr(list(users_test.age),\n",
    "            list(users_test.total_revenue))[1].round(3), ',',\n",
    "      stats.spearmanr(list(control_full.age),\n",
    "            list(control_full.total_revenue))[1].round(3))"
   ]
  },
  {
   "cell_type": "markdown",
   "metadata": {},
   "source": [
    "**Коэффициенты корреляции между возрастом пользователя статистически не значимы**"
   ]
  },
  {
   "cell_type": "code",
   "execution_count": 127,
   "metadata": {},
   "outputs": [
    {
     "name": "stdout",
     "output_type": "stream",
     "text": [
      "Границы возрастного диапазона:  16 - 99\n"
     ]
    }
   ],
   "source": [
    "print('Границы возрастного диапазона: ', full_data.age.min(), '-', full_data.age.max())"
   ]
  },
  {
   "cell_type": "code",
   "execution_count": 128,
   "metadata": {},
   "outputs": [],
   "source": [
    "for_labels = ['16-20', '21-26', '27-32', '33-38', '39-46', '46-55', '56-99']\n",
    "for_bins = [15, 20, 26, 32, 38, 46, 55, 100]"
   ]
  },
  {
   "cell_type": "code",
   "execution_count": 137,
   "metadata": {},
   "outputs": [],
   "source": [
    "full_merged_data = full_merged_data.assign(\n",
    "                   age_group=pd.cut(full_merged_data['age'], bins=for_bins, labels=for_labels))"
   ]
  },
  {
   "cell_type": "code",
   "execution_count": 140,
   "metadata": {},
   "outputs": [],
   "source": [
    "formula = 'revenue ~ group + age_group + group: age_group'\n",
    "model = ols(formula, full_merged_data).fit()\n",
    "aov_table = anova_lm(model, typ=2)"
   ]
  },
  {
   "cell_type": "code",
   "execution_count": 141,
   "metadata": {},
   "outputs": [
    {
     "name": "stdout",
     "output_type": "stream",
     "text": [
      "                       sum_sq     df          F    PR(>F)\n",
      "group            1.024304e+09    1.0  13.829121  0.000212\n",
      "age_group        4.613758e+08    6.0   1.038172  0.398802\n",
      "group:age_group  4.177482e+08    6.0   0.940002  0.465265\n",
      "Residual         7.140219e+10  964.0        NaN       NaN\n"
     ]
    }
   ],
   "source": [
    "print(aov_table)"
   ]
  },
  {
   "cell_type": "markdown",
   "metadata": {},
   "source": [
    "**Как видно по последней колонке, эффект фактора age_group и взаимодействие факторов не значимы.**"
   ]
  },
  {
   "cell_type": "code",
   "execution_count": 142,
   "metadata": {},
   "outputs": [
    {
     "data": {
      "text/plain": [
       "Text(0, 0.5, 'Выручка')"
      ]
     },
     "execution_count": 142,
     "metadata": {},
     "output_type": "execute_result"
    },
    {
     "data": {
      "image/png": "[encoded data removed]",
      "text/plain": [
       "<Figure size 720x360 with 1 Axes>"
      ]
     },
     "metadata": {},
     "output_type": "display_data"
    }
   ],
   "source": [
    "sns.boxplot(x='age_group', y='revenue', hue='group', data=full_merged_data)\n",
    "plt.xlabel('Возрастная группа')\n",
    "plt.ylabel('Выручка')"
   ]
  },
  {
   "cell_type": "code",
   "execution_count": 184,
   "metadata": {},
   "outputs": [],
   "source": [
    "age_group_1 = full_merged_data[full_merged_data.group == 'control'].query(\"age_group == '16-20'\").revenue\n",
    "age_group_2 = full_merged_data[full_merged_data.group == 'control'].query(\"age_group == '21-26'\").revenue\n",
    "age_group_3 = full_merged_data[full_merged_data.group == 'control'].query(\"age_group == '27-32'\").revenue\n",
    "age_group_4 = full_merged_data[full_merged_data.group == 'control'].query(\"age_group == '33-38'\").revenue\n",
    "age_group_5 = full_merged_data[full_merged_data.group == 'control'].query(\"age_group == '39-46'\").revenue\n",
    "age_group_6 = full_merged_data[full_merged_data.group == 'control'].query(\"age_group == '46-55'\").revenue\n",
    "age_group_7 = full_merged_data[full_merged_data.group == 'control'].query(\"age_group == '56-99'\").revenue\n",
    "\n",
    "age_group_8 = full_merged_data[full_merged_data.group == 'test'].query(\"age_group == '16-20'\").revenue\n",
    "age_group_9 = full_merged_data[full_merged_data.group == 'test'].query(\"age_group == '21-26'\").revenue\n",
    "age_group_10 = full_merged_data[full_merged_data.group == 'test'].query(\"age_group == '27-32'\").revenue\n",
    "age_group_11 = full_merged_data[full_merged_data.group == 'test'].query(\"age_group == '33-38'\").revenue\n",
    "age_group_12 = full_merged_data[full_merged_data.group == 'test'].query(\"age_group == '39-46'\").revenue\n",
    "age_group_13 = full_merged_data[full_merged_data.group == 'test'].query(\"age_group == '46-55'\").revenue\n",
    "age_group_14 = full_merged_data[full_merged_data.group == 'test'].query(\"age_group == '56-99'\").revenue"
   ]
  },
  {
   "cell_type": "code",
   "execution_count": 185,
   "metadata": {},
   "outputs": [],
   "source": [
    "age_pvalues = sp.posthoc_dunn([age_group_1, age_group_2, age_group_3, age_group_4, age_group_5, age_group_6,\n",
    "                               age_group_7, age_group_8, age_group_9, age_group_10, age_group_11, age_group_12,\n",
    "                               age_group_13, age_group_14], p_adjust='bonferroni') < 0.05"
   ]
  },
  {
   "cell_type": "code",
   "execution_count": 186,
   "metadata": {},
   "outputs": [
    {
     "data": {
      "text/html": [
       "<div>\n",
       "<style scoped>\n",
       "    .dataframe tbody tr th:only-of-type {\n",
       "        vertical-align: middle;\n",
       "    }\n",
       "\n",
       "    .dataframe tbody tr th {\n",
       "        vertical-align: top;\n",
       "    }\n",
       "\n",
       "    .dataframe thead th {\n",
       "        text-align: right;\n",
       "    }\n",
       "</style>\n",
       "<table border=\"1\" class=\"dataframe\">\n",
       "  <thead>\n",
       "    <tr style=\"text-align: right;\">\n",
       "      <th></th>\n",
       "      <th>1</th>\n",
       "      <th>2</th>\n",
       "      <th>3</th>\n",
       "      <th>4</th>\n",
       "      <th>5</th>\n",
       "      <th>6</th>\n",
       "      <th>7</th>\n",
       "    </tr>\n",
       "  </thead>\n",
       "  <tbody>\n",
       "    <tr>\n",
       "      <th>8</th>\n",
       "      <td>False</td>\n",
       "      <td>True</td>\n",
       "      <td>False</td>\n",
       "      <td>False</td>\n",
       "      <td>False</td>\n",
       "      <td>False</td>\n",
       "      <td>False</td>\n",
       "    </tr>\n",
       "    <tr>\n",
       "      <th>9</th>\n",
       "      <td>False</td>\n",
       "      <td>False</td>\n",
       "      <td>False</td>\n",
       "      <td>False</td>\n",
       "      <td>False</td>\n",
       "      <td>False</td>\n",
       "      <td>False</td>\n",
       "    </tr>\n",
       "    <tr>\n",
       "      <th>10</th>\n",
       "      <td>False</td>\n",
       "      <td>False</td>\n",
       "      <td>False</td>\n",
       "      <td>False</td>\n",
       "      <td>False</td>\n",
       "      <td>False</td>\n",
       "      <td>False</td>\n",
       "    </tr>\n",
       "    <tr>\n",
       "      <th>11</th>\n",
       "      <td>False</td>\n",
       "      <td>False</td>\n",
       "      <td>False</td>\n",
       "      <td>False</td>\n",
       "      <td>False</td>\n",
       "      <td>False</td>\n",
       "      <td>False</td>\n",
       "    </tr>\n",
       "    <tr>\n",
       "      <th>12</th>\n",
       "      <td>False</td>\n",
       "      <td>True</td>\n",
       "      <td>False</td>\n",
       "      <td>False</td>\n",
       "      <td>False</td>\n",
       "      <td>False</td>\n",
       "      <td>False</td>\n",
       "    </tr>\n",
       "    <tr>\n",
       "      <th>13</th>\n",
       "      <td>False</td>\n",
       "      <td>False</td>\n",
       "      <td>False</td>\n",
       "      <td>False</td>\n",
       "      <td>False</td>\n",
       "      <td>False</td>\n",
       "      <td>False</td>\n",
       "    </tr>\n",
       "    <tr>\n",
       "      <th>14</th>\n",
       "      <td>False</td>\n",
       "      <td>False</td>\n",
       "      <td>False</td>\n",
       "      <td>False</td>\n",
       "      <td>False</td>\n",
       "      <td>False</td>\n",
       "      <td>False</td>\n",
       "    </tr>\n",
       "  </tbody>\n",
       "</table>\n",
       "</div>"
      ],
      "text/plain": [
       "        1      2      3      4      5      6      7\n",
       "8   False   True  False  False  False  False  False\n",
       "9   False  False  False  False  False  False  False\n",
       "10  False  False  False  False  False  False  False\n",
       "11  False  False  False  False  False  False  False\n",
       "12  False   True  False  False  False  False  False\n",
       "13  False  False  False  False  False  False  False\n",
       "14  False  False  False  False  False  False  False"
      ]
     },
     "execution_count": 186,
     "metadata": {},
     "output_type": "execute_result"
    }
   ],
   "source": [
    "age_pvalues.iloc[7:14, 0:7]"
   ]
  },
  {
   "cell_type": "markdown",
   "metadata": {},
   "source": [
    "**В выбранных возрастных группах статистически значимых отличий не обнаружено**"
   ]
  },
  {
   "cell_type": "code",
   "execution_count": null,
   "metadata": {},
   "outputs": [],
   "source": []
  },
  {
   "cell_type": "markdown",
   "metadata": {},
   "source": [
    "# 4. Выводы<a name=\"vivod\"></a>\n",
    "**В целом эксперимент был успешен. Для тестовой группы стоимость подписки была повышена (ARPPU увеличилась, количество премиум-подписок на пользователя сократилось), но изменение выручки от увеличения стоимости подписки больше, чем от сокращения количества клиентов.**\n",
    "\n",
    "**Нововведение имеет смысл для следующих групп:**\n",
    "   *  Пользователи гендера 1 \n",
    "   *  Посетившие приложение от 15 до 29 дней\n",
    "   *  Пользователи из страны Argentina\n",
    "   *  С коэффициентом привлекательности от 113 до 500"
   ]
  },
  {
   "cell_type": "code",
   "execution_count": null,
   "metadata": {},
   "outputs": [],
   "source": []
  }
 ],
 "metadata": {
  "kernelspec": {
   "display_name": "Python 3",
   "language": "python",
   "name": "python3"
  },
  "language_info": {
   "codemirror_mode": {
    "name": "ipython",
    "version": 3
   },
   "file_extension": ".py",
   "mimetype": "text/x-python",
   "name": "python",
   "nbconvert_exporter": "python",
   "pygments_lexer": "ipython3",
   "version": "3.7.3"
  }
 },
 "nbformat": 4,
 "nbformat_minor": 4
}
